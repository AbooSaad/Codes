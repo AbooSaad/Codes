{
 "cells": [
  {
   "cell_type": "markdown",
   "id": "fe5f4865",
   "metadata": {},
   "source": [
    "<img align=\"left\" src=\"https://weclouddata.s3.amazonaws.com/images/logos/wcd_logo_new_2.png\"  width='15%'>\n",
    "<br></br><br></br>\n",
    "\n",
    "<h1 align=\"left\"> Data Fundamentals Course - Python Lecture 2 </h1>\n",
    "\n",
    "### Objectives\n",
    "- Learn how to work with python data types list, set, dictionary, tuple\n",
    "- Learn python control flows such as if-else and for loops\n",
    "- Expand the scope of OpenAI exercise 1 to include file reading, parsing, and loops. \n",
    "\n",
    "\n",
    "### Python Concepts\n",
    "- List\n",
    "- Set\n",
    "- Dictionary\n",
    "- Tuple\n",
    "- Reading files using open()\n",
    "- Control Flow: For Loop\n",
    "- Control Flow: IF-ELSE\n",
    "\n",
    "\n",
    "### Demo/Exercise\n",
    "- Sentiment Classification\n",
    "\n",
    "\n",
    "### Python Libraries Used\n",
    "\n",
    "> ```!pip install openai  ```  \n",
    "> ```!pip install vaderSentiment ```\n",
    "\n",
    "---\n",
    "<br>\n"
   ]
  },
  {
   "cell_type": "markdown",
   "id": "f367f10e",
   "metadata": {},
   "source": [
    "## 🚗 Lab Recap\n",
    "\n",
    "In lesson 1, we learned python basic syntax and worked with openai to submit prompt and get a response. \n",
    "\n",
    "Key concepts to review:\n",
    "- Everything in python is an object\n",
    "- Objects have attributes and methods\n",
    "- Python has built-in functions\n",
    "- Python has keywords that cannot be used as variable names\n",
    "- String data type has methods such as replace, count, etc."
   ]
  },
  {
   "cell_type": "markdown",
   "id": "9e339030",
   "metadata": {},
   "source": [
    "---"
   ]
  },
  {
   "cell_type": "markdown",
   "id": "23f9ab4f",
   "metadata": {},
   "source": [
    "## 🐍 Data Type: List"
   ]
  },
  {
   "cell_type": "markdown",
   "id": "f0a30da8",
   "metadata": {},
   "source": [
    "#### Create a List"
   ]
  },
  {
   "cell_type": "code",
   "execution_count": 4,
   "id": "7a283b2e",
   "metadata": {},
   "outputs": [],
   "source": [
    "learning_plan = []"
   ]
  },
  {
   "cell_type": "code",
   "execution_count": 2,
   "id": "9d579402",
   "metadata": {},
   "outputs": [
    {
     "ename": "NameError",
     "evalue": "name 'learning_plan' is not defined",
     "output_type": "error",
     "traceback": [
      "\u001b[1;31m---------------------------------------------------------------------------\u001b[0m",
      "\u001b[1;31mNameError\u001b[0m                                 Traceback (most recent call last)",
      "Cell \u001b[1;32mIn[2], line 1\u001b[0m\n\u001b[1;32m----> 1\u001b[0m learning_plan[\u001b[38;5;241m0\u001b[39m] \u001b[38;5;241m=\u001b[39m \u001b[38;5;124m'\u001b[39m\u001b[38;5;124m1. Learn Python\u001b[39m\u001b[38;5;124m'\u001b[39m\n",
      "\u001b[1;31mNameError\u001b[0m: name 'learning_plan' is not defined"
     ]
    }
   ],
   "source": [
    "learning_plan[0] = '1. Learn Python'"
   ]
  },
  {
   "cell_type": "markdown",
   "id": "45ae1098",
   "metadata": {},
   "source": [
    "> wait. what?.."
   ]
  },
  {
   "cell_type": "code",
   "execution_count": 43,
   "id": "03012fa8",
   "metadata": {},
   "outputs": [],
   "source": [
    "learning_plan = [''] * 5"
   ]
  },
  {
   "cell_type": "code",
   "execution_count": 44,
   "id": "6a23add5",
   "metadata": {},
   "outputs": [
    {
     "data": {
      "text/plain": [
       "['', '', '', '', '']"
      ]
     },
     "execution_count": 44,
     "metadata": {},
     "output_type": "execute_result"
    }
   ],
   "source": [
    "learning_plan"
   ]
  },
  {
   "cell_type": "code",
   "execution_count": 45,
   "id": "e87132c0",
   "metadata": {},
   "outputs": [],
   "source": [
    "learning_plan[0] = '1. learn python'"
   ]
  },
  {
   "cell_type": "code",
   "execution_count": 46,
   "id": "e4b06b42",
   "metadata": {},
   "outputs": [
    {
     "data": {
      "text/plain": [
       "['1. learn python', '', '', '', '']"
      ]
     },
     "execution_count": 46,
     "metadata": {},
     "output_type": "execute_result"
    }
   ],
   "source": [
    "learning_plan"
   ]
  },
  {
   "cell_type": "code",
   "execution_count": 6,
   "id": "91b738c3",
   "metadata": {},
   "outputs": [],
   "source": [
    "learning_plan = [\n",
    "    '1. learn sql',\n",
    "    '2. learn python',\n",
    "    '3. learn data wrangling',\n",
    "    '4. learn machine learning'\n",
    "]"
   ]
  },
  {
   "cell_type": "markdown",
   "id": "f4d72818",
   "metadata": {},
   "source": [
    "> there gotta be a better way of adding elements to python? "
   ]
  },
  {
   "cell_type": "markdown",
   "id": "825204d2",
   "metadata": {},
   "source": [
    "#### Access elements in a list"
   ]
  },
  {
   "cell_type": "code",
   "execution_count": 48,
   "id": "b61c22e5",
   "metadata": {},
   "outputs": [
    {
     "data": {
      "text/plain": [
       "'3. learn data wrangling'"
      ]
     },
     "execution_count": 48,
     "metadata": {},
     "output_type": "execute_result"
    }
   ],
   "source": [
    "learning_plan[2]"
   ]
  },
  {
   "cell_type": "markdown",
   "id": "0ce6871b",
   "metadata": {},
   "source": [
    "#### List is mutable"
   ]
  },
  {
   "cell_type": "code",
   "execution_count": 49,
   "id": "306c79d5",
   "metadata": {},
   "outputs": [],
   "source": [
    "learning_plan[2] = '3. learn pandas dataframe'"
   ]
  },
  {
   "cell_type": "markdown",
   "id": "4def2dd6",
   "metadata": {},
   "source": [
    "#### List can be extended"
   ]
  },
  {
   "cell_type": "code",
   "execution_count": 8,
   "id": "00cd84f9",
   "metadata": {},
   "outputs": [],
   "source": [
    "learning_plan.append('5. learn big data')\n"
   ]
  },
  {
   "cell_type": "code",
   "execution_count": 51,
   "id": "d7e83804",
   "metadata": {},
   "outputs": [
    {
     "data": {
      "text/plain": [
       "['1. learn sql',\n",
       " '2. learn python',\n",
       " '3. learn pandas dataframe',\n",
       " '4. learn machine learning',\n",
       " '5. learn big data']"
      ]
     },
     "execution_count": 51,
     "metadata": {},
     "output_type": "execute_result"
    }
   ],
   "source": [
    "learning_plan"
   ]
  },
  {
   "cell_type": "markdown",
   "id": "a835e7ec",
   "metadata": {},
   "source": [
    "#### Extending a list with a list"
   ]
  },
  {
   "cell_type": "code",
   "execution_count": 10,
   "id": "56feb902",
   "metadata": {},
   "outputs": [],
   "source": [
    "learning_plan.extend(['6. deep learning', '7. leetcode'])"
   ]
  },
  {
   "cell_type": "code",
   "execution_count": 12,
   "id": "f6e0e9f3",
   "metadata": {},
   "outputs": [
    {
     "data": {
      "text/plain": [
       "['1. learn sql',\n",
       " '2. learn python',\n",
       " '3. learn data wrangling',\n",
       " '4. learn machine learning',\n",
       " '5. learn big data',\n",
       " '6. deep learning',\n",
       " '7. leetcode']"
      ]
     },
     "execution_count": 12,
     "metadata": {},
     "output_type": "execute_result"
    }
   ],
   "source": [
    "learning_plan"
   ]
  },
  {
   "cell_type": "code",
   "execution_count": 14,
   "id": "3d487c32",
   "metadata": {},
   "outputs": [
    {
     "data": {
      "text/plain": [
       "['1. learn sql',\n",
       " '2. learn python',\n",
       " '3. learn data wrangling',\n",
       " '4. learn machine learning',\n",
       " '5. learn big data',\n",
       " '6. deep learning',\n",
       " '7. leetcode',\n",
       " '8. generative ai',\n",
       " '9. cloud engineering']"
      ]
     },
     "execution_count": 14,
     "metadata": {},
     "output_type": "execute_result"
    }
   ],
   "source": [
    "learning_plan + ['8. generative ai', '9. cloud engineering']"
   ]
  },
  {
   "cell_type": "markdown",
   "id": "a38ca077",
   "metadata": {},
   "source": [
    "#### List can accept heterogeneous types of data as elements"
   ]
  },
  {
   "cell_type": "code",
   "execution_count": 55,
   "id": "ec490a68",
   "metadata": {},
   "outputs": [],
   "source": [
    "learning_plan.append(('customer churn use case', 'forecasting use case'))"
   ]
  },
  {
   "cell_type": "code",
   "execution_count": 56,
   "id": "0a2ecbdf",
   "metadata": {},
   "outputs": [],
   "source": [
    "learning_plan.append({'capstone projects': 2, 'use cases': 10})"
   ]
  },
  {
   "cell_type": "code",
   "execution_count": 57,
   "id": "0ff2d097",
   "metadata": {},
   "outputs": [
    {
     "data": {
      "text/plain": [
       "['1. learn sql',\n",
       " '2. learn python',\n",
       " '3. learn pandas dataframe',\n",
       " '4. learn machine learning',\n",
       " '5. learn big data',\n",
       " '6. deep learning',\n",
       " '7. leetcode',\n",
       " ('customer churn use case', 'forecasting use case'),\n",
       " {'capstone projects': 2, 'use cases': 10}]"
      ]
     },
     "execution_count": 57,
     "metadata": {},
     "output_type": "execute_result"
    }
   ],
   "source": [
    "learning_plan"
   ]
  },
  {
   "cell_type": "markdown",
   "id": "239704c9",
   "metadata": {},
   "source": [
    "#### Other list methods"
   ]
  },
  {
   "cell_type": "code",
   "execution_count": 102,
   "id": "39a12a05",
   "metadata": {},
   "outputs": [
    {
     "data": {
      "text/plain": [
       "['__add__',\n",
       " '__class__',\n",
       " '__class_getitem__',\n",
       " '__contains__',\n",
       " '__delattr__',\n",
       " '__delitem__',\n",
       " '__dir__',\n",
       " '__doc__',\n",
       " '__eq__',\n",
       " '__format__',\n",
       " '__ge__',\n",
       " '__getattribute__',\n",
       " '__getitem__',\n",
       " '__gt__',\n",
       " '__hash__',\n",
       " '__iadd__',\n",
       " '__imul__',\n",
       " '__init__',\n",
       " '__init_subclass__',\n",
       " '__iter__',\n",
       " '__le__',\n",
       " '__len__',\n",
       " '__lt__',\n",
       " '__mul__',\n",
       " '__ne__',\n",
       " '__new__',\n",
       " '__reduce__',\n",
       " '__reduce_ex__',\n",
       " '__repr__',\n",
       " '__reversed__',\n",
       " '__rmul__',\n",
       " '__setattr__',\n",
       " '__setitem__',\n",
       " '__sizeof__',\n",
       " '__str__',\n",
       " '__subclasshook__',\n",
       " 'append',\n",
       " 'clear',\n",
       " 'copy',\n",
       " 'count',\n",
       " 'extend',\n",
       " 'index',\n",
       " 'insert',\n",
       " 'pop',\n",
       " 'remove',\n",
       " 'reverse',\n",
       " 'sort']"
      ]
     },
     "execution_count": 102,
     "metadata": {},
     "output_type": "execute_result"
    }
   ],
   "source": [
    "dir(learning_plan)"
   ]
  },
  {
   "cell_type": "code",
   "execution_count": 16,
   "id": "7cb49903",
   "metadata": {},
   "outputs": [
    {
     "data": {
      "text/plain": [
       "'7. leetcode'"
      ]
     },
     "execution_count": 16,
     "metadata": {},
     "output_type": "execute_result"
    }
   ],
   "source": [
    "# pop - delete element by index\n",
    "learning_plan.pop(-1)"
   ]
  },
  {
   "cell_type": "code",
   "execution_count": 18,
   "id": "c0c6996d",
   "metadata": {},
   "outputs": [
    {
     "data": {
      "text/plain": [
       "'6. deep learning'"
      ]
     },
     "execution_count": 18,
     "metadata": {},
     "output_type": "execute_result"
    }
   ],
   "source": [
    "learning_plan.pop(-1)"
   ]
  },
  {
   "cell_type": "code",
   "execution_count": 20,
   "id": "5d8bf6ec",
   "metadata": {},
   "outputs": [
    {
     "data": {
      "text/plain": [
       "['1. learn sql',\n",
       " '2. learn python',\n",
       " '3. learn data wrangling',\n",
       " '4. learn machine learning',\n",
       " '5. learn big data']"
      ]
     },
     "execution_count": 20,
     "metadata": {},
     "output_type": "execute_result"
    }
   ],
   "source": [
    "learning_plan"
   ]
  },
  {
   "cell_type": "code",
   "execution_count": 22,
   "id": "da87ed54",
   "metadata": {},
   "outputs": [],
   "source": [
    "# remove - delete the first occurrence\n",
    "learning_plan.remove('1. learn sql')"
   ]
  },
  {
   "cell_type": "code",
   "execution_count": 24,
   "id": "903ca151",
   "metadata": {},
   "outputs": [
    {
     "data": {
      "text/plain": [
       "['2. learn python',\n",
       " '3. learn data wrangling',\n",
       " '4. learn machine learning',\n",
       " '5. learn big data']"
      ]
     },
     "execution_count": 24,
     "metadata": {},
     "output_type": "execute_result"
    }
   ],
   "source": [
    "learning_plan"
   ]
  },
  {
   "cell_type": "code",
   "execution_count": 26,
   "id": "52577a8b",
   "metadata": {},
   "outputs": [
    {
     "name": "stdout",
     "output_type": "stream",
     "text": [
      "['5. learn big data', '4. learn machine learning', '3. learn data wrangling', '2. learn python']\n"
     ]
    }
   ],
   "source": [
    "# reverse\n",
    "learning_plan.reverse()\n",
    "print(learning_plan)"
   ]
  },
  {
   "cell_type": "code",
   "execution_count": 28,
   "id": "0d4e1b1d",
   "metadata": {},
   "outputs": [
    {
     "name": "stdout",
     "output_type": "stream",
     "text": [
      "['2. learn python', '3. learn data wrangling', '4. learn machine learning', '5. learn big data']\n"
     ]
    }
   ],
   "source": [
    "learning_plan.reverse()\n",
    "print(learning_plan)"
   ]
  },
  {
   "cell_type": "code",
   "execution_count": 32,
   "id": "a6bfa03c",
   "metadata": {},
   "outputs": [],
   "source": [
    "# sort\n",
    "learning_plan.sort()"
   ]
  },
  {
   "cell_type": "code",
   "execution_count": 38,
   "id": "e57338f3",
   "metadata": {},
   "outputs": [],
   "source": [
    "learning_plan.sort(reverse=True)"
   ]
  },
  {
   "cell_type": "code",
   "execution_count": 40,
   "id": "f17474f4",
   "metadata": {},
   "outputs": [
    {
     "data": {
      "text/plain": [
       "['5. learn big data',\n",
       " '4. learn machine learning',\n",
       " '3. learn data wrangling',\n",
       " '2. learn python']"
      ]
     },
     "execution_count": 40,
     "metadata": {},
     "output_type": "execute_result"
    }
   ],
   "source": [
    "learning_plan"
   ]
  },
  {
   "cell_type": "markdown",
   "id": "0f5d1cb3",
   "metadata": {},
   "source": [
    "---"
   ]
  },
  {
   "cell_type": "markdown",
   "id": "afe80f56",
   "metadata": {},
   "source": [
    "## 🐍 Data Type: Tuple\n",
    "\n"
   ]
  },
  {
   "cell_type": "markdown",
   "id": "5a49bb62",
   "metadata": {},
   "source": [
    "#### Create a tuple"
   ]
  },
  {
   "cell_type": "code",
   "execution_count": 44,
   "id": "691a800a",
   "metadata": {},
   "outputs": [],
   "source": [
    "learning_plan_tuple = (\n",
    "    '1. learn sql',\n",
    "    '2. learn python',\n",
    "    '3. learn pandas dataframe',\n",
    "    '4. learn machine learning',\n",
    "    '5. learn big data'\n",
    ")"
   ]
  },
  {
   "cell_type": "markdown",
   "id": "a0188145",
   "metadata": {},
   "source": [
    "#### Access a tuple"
   ]
  },
  {
   "cell_type": "code",
   "execution_count": 98,
   "id": "db0b6e57",
   "metadata": {},
   "outputs": [
    {
     "data": {
      "text/plain": [
       "'4. learn machine learning'"
      ]
     },
     "execution_count": 98,
     "metadata": {},
     "output_type": "execute_result"
    }
   ],
   "source": [
    "learning_plan_tuple[3]"
   ]
  },
  {
   "cell_type": "code",
   "execution_count": 99,
   "id": "2a8b6840",
   "metadata": {},
   "outputs": [
    {
     "data": {
      "text/plain": [
       "'5. learn big data'"
      ]
     },
     "execution_count": 99,
     "metadata": {},
     "output_type": "execute_result"
    }
   ],
   "source": [
    "learning_plan_tuple[-1]"
   ]
  },
  {
   "cell_type": "markdown",
   "id": "579400a4",
   "metadata": {},
   "source": [
    "#### Tuple is immutable"
   ]
  },
  {
   "cell_type": "code",
   "execution_count": 100,
   "id": "2044427d",
   "metadata": {
    "scrolled": true
   },
   "outputs": [
    {
     "ename": "TypeError",
     "evalue": "'tuple' object does not support item assignment",
     "output_type": "error",
     "traceback": [
      "\u001b[0;31m---------------------------------------------------------------------------\u001b[0m",
      "\u001b[0;31mTypeError\u001b[0m                                 Traceback (most recent call last)",
      "Cell \u001b[0;32mIn[100], line 1\u001b[0m\n\u001b[0;32m----> 1\u001b[0m learning_plan_tuple[\u001b[38;5;241m0\u001b[39m] \u001b[38;5;241m=\u001b[39m \u001b[38;5;124m'\u001b[39m\u001b[38;5;124m1. learn sql\u001b[39m\u001b[38;5;124m'\u001b[39m\n",
      "\u001b[0;31mTypeError\u001b[0m: 'tuple' object does not support item assignment"
     ]
    }
   ],
   "source": [
    "learning_plan_tuple[0] = '1. learn sql'"
   ]
  },
  {
   "cell_type": "code",
   "execution_count": 46,
   "id": "48fcafc3",
   "metadata": {},
   "outputs": [
    {
     "data": {
      "text/plain": [
       "('1. learn sql',\n",
       " '2. learn python',\n",
       " '3. learn pandas dataframe',\n",
       " '4. learn machine learning',\n",
       " '5. learn big data')"
      ]
     },
     "execution_count": 46,
     "metadata": {},
     "output_type": "execute_result"
    }
   ],
   "source": [
    "learning_plan_tuple"
   ]
  },
  {
   "cell_type": "code",
   "execution_count": 48,
   "id": "2a58a200",
   "metadata": {},
   "outputs": [
    {
     "data": {
      "text/plain": [
       "'1. learn sql'"
      ]
     },
     "execution_count": 48,
     "metadata": {},
     "output_type": "execute_result"
    }
   ],
   "source": [
    "learning_plan_tuple[0]"
   ]
  },
  {
   "cell_type": "markdown",
   "id": "3e018cf9",
   "metadata": {},
   "source": [
    "#### Tuple methods"
   ]
  },
  {
   "cell_type": "code",
   "execution_count": 51,
   "id": "7c35cd16",
   "metadata": {},
   "outputs": [],
   "source": [
    "t = (1, 2, 3, 2, 1, 5, 8)"
   ]
  },
  {
   "cell_type": "code",
   "execution_count": 127,
   "id": "eb24cb25",
   "metadata": {},
   "outputs": [
    {
     "data": {
      "text/plain": [
       "['__add__',\n",
       " '__class__',\n",
       " '__class_getitem__',\n",
       " '__contains__',\n",
       " '__delattr__',\n",
       " '__dir__',\n",
       " '__doc__',\n",
       " '__eq__',\n",
       " '__format__',\n",
       " '__ge__',\n",
       " '__getattribute__',\n",
       " '__getitem__',\n",
       " '__getnewargs__',\n",
       " '__gt__',\n",
       " '__hash__',\n",
       " '__init__',\n",
       " '__init_subclass__',\n",
       " '__iter__',\n",
       " '__le__',\n",
       " '__len__',\n",
       " '__lt__',\n",
       " '__mul__',\n",
       " '__ne__',\n",
       " '__new__',\n",
       " '__reduce__',\n",
       " '__reduce_ex__',\n",
       " '__repr__',\n",
       " '__rmul__',\n",
       " '__setattr__',\n",
       " '__sizeof__',\n",
       " '__str__',\n",
       " '__subclasshook__',\n",
       " 'count',\n",
       " 'index']"
      ]
     },
     "execution_count": 127,
     "metadata": {},
     "output_type": "execute_result"
    }
   ],
   "source": [
    "dir(t)"
   ]
  },
  {
   "cell_type": "code",
   "execution_count": 53,
   "id": "163c7512",
   "metadata": {},
   "outputs": [],
   "source": [
    "switch_to_ds = [\n",
    "    ('1. learn sql', 1),\n",
    "    ('2. learn python', 2),\n",
    "    ('3. learn pandas dataframe', 1),\n",
    "    ('4. learn machine learning', 3),\n",
    "    ('5. learn big data', 3),\n",
    "    ('6. capstone projects', 3)\n",
    "]"
   ]
  },
  {
   "cell_type": "code",
   "execution_count": 123,
   "id": "ec9484a8",
   "metadata": {},
   "outputs": [
    {
     "data": {
      "text/plain": [
       "0"
      ]
     },
     "execution_count": 123,
     "metadata": {},
     "output_type": "execute_result"
    }
   ],
   "source": [
    "switch_to_ds.index(('1. learn sql', 1))"
   ]
  },
  {
   "cell_type": "code",
   "execution_count": 125,
   "id": "b65b5c12",
   "metadata": {},
   "outputs": [
    {
     "data": {
      "text/plain": [
       "1"
      ]
     },
     "execution_count": 125,
     "metadata": {},
     "output_type": "execute_result"
    }
   ],
   "source": [
    "switch_to_ds.count(('1. learn sql', 1))"
   ]
  },
  {
   "cell_type": "markdown",
   "id": "e301b3e9",
   "metadata": {},
   "source": [
    "## 🐍 Data Type: Set\n"
   ]
  },
  {
   "cell_type": "markdown",
   "id": "c387cebd",
   "metadata": {},
   "source": [
    "#### Creating a set"
   ]
  },
  {
   "cell_type": "code",
   "execution_count": 55,
   "id": "0ef22a19",
   "metadata": {},
   "outputs": [],
   "source": [
    "s = {1,2,3}"
   ]
  },
  {
   "cell_type": "code",
   "execution_count": 57,
   "id": "6f0a8c89",
   "metadata": {},
   "outputs": [
    {
     "data": {
      "text/plain": [
       "{1, 2, 3}"
      ]
     },
     "execution_count": 57,
     "metadata": {},
     "output_type": "execute_result"
    }
   ],
   "source": [
    "s"
   ]
  },
  {
   "cell_type": "markdown",
   "id": "3e0069d9",
   "metadata": {},
   "source": [
    "#### Accessing a set"
   ]
  },
  {
   "cell_type": "code",
   "execution_count": 135,
   "id": "07864b22",
   "metadata": {},
   "outputs": [
    {
     "ename": "TypeError",
     "evalue": "'set' object is not subscriptable",
     "output_type": "error",
     "traceback": [
      "\u001b[0;31m---------------------------------------------------------------------------\u001b[0m",
      "\u001b[0;31mTypeError\u001b[0m                                 Traceback (most recent call last)",
      "Cell \u001b[0;32mIn[135], line 1\u001b[0m\n\u001b[0;32m----> 1\u001b[0m \u001b[43ms\u001b[49m\u001b[43m[\u001b[49m\u001b[38;5;241;43m1\u001b[39;49m\u001b[43m]\u001b[49m\n",
      "\u001b[0;31mTypeError\u001b[0m: 'set' object is not subscriptable"
     ]
    }
   ],
   "source": [
    "s[1]"
   ]
  },
  {
   "cell_type": "markdown",
   "id": "5e182a1d",
   "metadata": {},
   "source": [
    "#### Set doens't accept duplicates"
   ]
  },
  {
   "cell_type": "code",
   "execution_count": 59,
   "id": "58ee9440",
   "metadata": {},
   "outputs": [],
   "source": [
    "s = {1, 3, 3, 3, 2}"
   ]
  },
  {
   "cell_type": "code",
   "execution_count": 61,
   "id": "d324c36d",
   "metadata": {},
   "outputs": [
    {
     "data": {
      "text/plain": [
       "{1, 2, 3}"
      ]
     },
     "execution_count": 61,
     "metadata": {},
     "output_type": "execute_result"
    }
   ],
   "source": [
    "s"
   ]
  },
  {
   "cell_type": "markdown",
   "id": "14b6d441",
   "metadata": {},
   "source": [
    "#### Using set for de-duping"
   ]
  },
  {
   "cell_type": "code",
   "execution_count": 63,
   "id": "3e1bb2a3",
   "metadata": {},
   "outputs": [],
   "source": [
    "popular_ds_skills = ['python', 'sql', 'ml', 'visualization']\n",
    "popular_de_skills = ['python', 'sql', 'spark', 'aws']"
   ]
  },
  {
   "cell_type": "code",
   "execution_count": 65,
   "id": "88798502",
   "metadata": {},
   "outputs": [],
   "source": [
    "common_data_skills = popular_ds_skills + popular_de_skills"
   ]
  },
  {
   "cell_type": "code",
   "execution_count": 67,
   "id": "5d67035f",
   "metadata": {},
   "outputs": [
    {
     "data": {
      "text/plain": [
       "['python', 'sql', 'ml', 'visualization', 'python', 'sql', 'spark', 'aws']"
      ]
     },
     "execution_count": 67,
     "metadata": {},
     "output_type": "execute_result"
    }
   ],
   "source": [
    "common_data_skills"
   ]
  },
  {
   "cell_type": "code",
   "execution_count": 140,
   "id": "d40e7b79",
   "metadata": {},
   "outputs": [
    {
     "data": {
      "text/plain": [
       "{'aws', 'ml', 'python', 'spark', 'sql', 'visualization'}"
      ]
     },
     "execution_count": 140,
     "metadata": {},
     "output_type": "execute_result"
    }
   ],
   "source": [
    "set(common_data_skills)"
   ]
  },
  {
   "cell_type": "code",
   "execution_count": 69,
   "id": "360e21ae",
   "metadata": {},
   "outputs": [
    {
     "data": {
      "text/plain": [
       "['sql', 'python', 'visualization', 'spark', 'aws', 'ml']"
      ]
     },
     "execution_count": 69,
     "metadata": {},
     "output_type": "execute_result"
    }
   ],
   "source": [
    "list(set(common_data_skills))"
   ]
  },
  {
   "cell_type": "markdown",
   "id": "b702c1fb",
   "metadata": {},
   "source": [
    "#### Set methods"
   ]
  },
  {
   "cell_type": "code",
   "execution_count": 136,
   "id": "c5f0b70f",
   "metadata": {},
   "outputs": [
    {
     "data": {
      "text/plain": [
       "['__and__',\n",
       " '__class__',\n",
       " '__class_getitem__',\n",
       " '__contains__',\n",
       " '__delattr__',\n",
       " '__dir__',\n",
       " '__doc__',\n",
       " '__eq__',\n",
       " '__format__',\n",
       " '__ge__',\n",
       " '__getattribute__',\n",
       " '__gt__',\n",
       " '__hash__',\n",
       " '__iand__',\n",
       " '__init__',\n",
       " '__init_subclass__',\n",
       " '__ior__',\n",
       " '__isub__',\n",
       " '__iter__',\n",
       " '__ixor__',\n",
       " '__le__',\n",
       " '__len__',\n",
       " '__lt__',\n",
       " '__ne__',\n",
       " '__new__',\n",
       " '__or__',\n",
       " '__rand__',\n",
       " '__reduce__',\n",
       " '__reduce_ex__',\n",
       " '__repr__',\n",
       " '__ror__',\n",
       " '__rsub__',\n",
       " '__rxor__',\n",
       " '__setattr__',\n",
       " '__sizeof__',\n",
       " '__str__',\n",
       " '__sub__',\n",
       " '__subclasshook__',\n",
       " '__xor__',\n",
       " 'add',\n",
       " 'clear',\n",
       " 'copy',\n",
       " 'difference',\n",
       " 'difference_update',\n",
       " 'discard',\n",
       " 'intersection',\n",
       " 'intersection_update',\n",
       " 'isdisjoint',\n",
       " 'issubset',\n",
       " 'issuperset',\n",
       " 'pop',\n",
       " 'remove',\n",
       " 'symmetric_difference',\n",
       " 'symmetric_difference_update',\n",
       " 'union',\n",
       " 'update']"
      ]
     },
     "execution_count": 136,
     "metadata": {},
     "output_type": "execute_result"
    }
   ],
   "source": [
    "dir(s)"
   ]
  },
  {
   "cell_type": "code",
   "execution_count": null,
   "id": "d9cc6bf0-8eca-4a1d-b8b8-a65e77da6355",
   "metadata": {},
   "outputs": [],
   "source": [
    "set."
   ]
  },
  {
   "cell_type": "markdown",
   "id": "e573850f",
   "metadata": {},
   "source": [
    "## 🐍 Data Type: Dictionary\n",
    "\n"
   ]
  },
  {
   "cell_type": "markdown",
   "id": "8447bf0b",
   "metadata": {},
   "source": [
    "#### Creating a dictionary"
   ]
  },
  {
   "cell_type": "code",
   "execution_count": 75,
   "id": "2e56b9f2",
   "metadata": {},
   "outputs": [],
   "source": [
    "job_success_key_factors = {\n",
    "    'coding': ['python', 'sql'], \n",
    "    'data': ['pandas', 'visualization'],\n",
    "    'ml': ['regression', 'classification'],\n",
    "    'business': ['communications', 'project management']\n",
    "}"
   ]
  },
  {
   "cell_type": "code",
   "execution_count": 77,
   "id": "bc2cb563",
   "metadata": {},
   "outputs": [
    {
     "data": {
      "text/plain": [
       "<function dict.keys>"
      ]
     },
     "execution_count": 77,
     "metadata": {},
     "output_type": "execute_result"
    }
   ],
   "source": [
    "# get the keys\n",
    "job_success_key_factors.keys"
   ]
  },
  {
   "cell_type": "code",
   "execution_count": 79,
   "id": "00bf2fa1",
   "metadata": {},
   "outputs": [
    {
     "data": {
      "text/plain": [
       "dict_keys(['coding', 'data', 'ml', 'business'])"
      ]
     },
     "execution_count": 79,
     "metadata": {},
     "output_type": "execute_result"
    }
   ],
   "source": [
    "job_success_key_factors.keys()"
   ]
  },
  {
   "cell_type": "code",
   "execution_count": 148,
   "id": "1ab1ab65",
   "metadata": {},
   "outputs": [
    {
     "data": {
      "text/plain": [
       "dict_values([['python', 'sql'], ['pandas', 'visualization'], ['regression', 'classification'], ['communications', 'project management']])"
      ]
     },
     "execution_count": 148,
     "metadata": {},
     "output_type": "execute_result"
    }
   ],
   "source": [
    "# get values\n",
    "job_success_key_factors.values()"
   ]
  },
  {
   "cell_type": "code",
   "execution_count": 151,
   "id": "8bd42c77",
   "metadata": {},
   "outputs": [
    {
     "data": {
      "text/plain": [
       "dict_items([('coding', ['python', 'sql']), ('data', ['pandas', 'visualization']), ('ml', ['regression', 'classification']), ('business', ['communications', 'project management'])])"
      ]
     },
     "execution_count": 151,
     "metadata": {},
     "output_type": "execute_result"
    }
   ],
   "source": [
    "job_success_key_factors.items()"
   ]
  },
  {
   "cell_type": "markdown",
   "id": "da71329f",
   "metadata": {},
   "source": [
    "#### Accessing keys and values"
   ]
  },
  {
   "cell_type": "code",
   "execution_count": 81,
   "id": "8b807be8",
   "metadata": {},
   "outputs": [
    {
     "data": {
      "text/plain": [
       "['python', 'sql']"
      ]
     },
     "execution_count": 81,
     "metadata": {},
     "output_type": "execute_result"
    }
   ],
   "source": [
    "job_success_key_factors['coding']"
   ]
  },
  {
   "cell_type": "code",
   "execution_count": 83,
   "id": "add2e5e5",
   "metadata": {},
   "outputs": [
    {
     "ename": "KeyError",
     "evalue": "'career'",
     "output_type": "error",
     "traceback": [
      "\u001b[1;31m---------------------------------------------------------------------------\u001b[0m",
      "\u001b[1;31mKeyError\u001b[0m                                  Traceback (most recent call last)",
      "Cell \u001b[1;32mIn[83], line 2\u001b[0m\n\u001b[0;32m      1\u001b[0m \u001b[38;5;66;03m# when the key is not set\u001b[39;00m\n\u001b[1;32m----> 2\u001b[0m job_success_key_factors[\u001b[38;5;124m'\u001b[39m\u001b[38;5;124mcareer\u001b[39m\u001b[38;5;124m'\u001b[39m]\n",
      "\u001b[1;31mKeyError\u001b[0m: 'career'"
     ]
    }
   ],
   "source": [
    "# when the key is not set\n",
    "job_success_key_factors['career']"
   ]
  },
  {
   "cell_type": "code",
   "execution_count": 85,
   "id": "d779b0fa",
   "metadata": {},
   "outputs": [],
   "source": [
    "# here's how you can avoid KeyError\n",
    "job_success_key_factors.get()"
   ]
  },
  {
   "cell_type": "markdown",
   "id": "0f9c9e1b",
   "metadata": {},
   "source": [
    "#### Updating values of a dictionary"
   ]
  },
  {
   "cell_type": "code",
   "execution_count": 110,
   "id": "ece11e04",
   "metadata": {},
   "outputs": [
    {
     "data": {
      "text/plain": [
       "list"
      ]
     },
     "execution_count": 110,
     "metadata": {},
     "output_type": "execute_result"
    }
   ],
   "source": [
    "type(job_success_key_factors['coding'])"
   ]
  },
  {
   "cell_type": "code",
   "execution_count": 112,
   "id": "9893c2c0",
   "metadata": {},
   "outputs": [],
   "source": [
    "job_success_key_factors['coding'].append('linux')\n"
   ]
  },
  {
   "cell_type": "code",
   "execution_count": 114,
   "id": "113b8191",
   "metadata": {},
   "outputs": [
    {
     "data": {
      "text/plain": [
       "{'coding': ['python', 'sql', 'pyspark', 'linux', 'linux'],\n",
       " 'data': ['pandas', 'visualization'],\n",
       " 'ml': ['regression', 'classification'],\n",
       " 'business': ['communications', 'project management']}"
      ]
     },
     "execution_count": 114,
     "metadata": {},
     "output_type": "execute_result"
    }
   ],
   "source": [
    "job_success_key_factors"
   ]
  },
  {
   "cell_type": "code",
   "execution_count": 108,
   "id": "26837a28",
   "metadata": {},
   "outputs": [],
   "source": [
    "job_success_key_factors.update({'coding': ['python', 'sql', 'pyspark', 'linux']})\n"
   ]
  },
  {
   "cell_type": "code",
   "execution_count": 102,
   "id": "404c3253",
   "metadata": {},
   "outputs": [
    {
     "data": {
      "text/plain": [
       "{'coding': ['python', 'sql', 'pyspark', 'linux'],\n",
       " 'data': ['pandas', 'visualization'],\n",
       " 'ml': ['regression', 'classification'],\n",
       " 'business': ['communications', 'project management']}"
      ]
     },
     "execution_count": 102,
     "metadata": {},
     "output_type": "execute_result"
    }
   ],
   "source": [
    "job_success_key_factors"
   ]
  },
  {
   "cell_type": "markdown",
   "id": "239649be",
   "metadata": {},
   "source": [
    "## 🐍 Control Flow: Loops\n",
    "\n",
    "### 1. for loop\n",
    "\n",
    "> Question: what is the total number of months it takes to become a self-taught data scientist? "
   ]
  },
  {
   "cell_type": "code",
   "execution_count": 74,
   "id": "3555f71d",
   "metadata": {},
   "outputs": [],
   "source": [
    "switch_to_ds = [\n",
    "    ('1. learn sql', 1),\n",
    "    ('2. learn python', 2),\n",
    "    ('3. learn pandas dataframe', 1),\n",
    "    ('4. learn machine learning', 3),\n",
    "    ('5. learn big data', 3),\n",
    "    ('6. capstone projects', 3)\n",
    "]"
   ]
  },
  {
   "cell_type": "code",
   "execution_count": 75,
   "id": "25b68ee9",
   "metadata": {},
   "outputs": [
    {
     "name": "stdout",
     "output_type": "stream",
     "text": [
      "('1. learn sql', 1)\n",
      "('2. learn python', 2)\n",
      "('3. learn pandas dataframe', 1)\n",
      "('4. learn machine learning', 3)\n",
      "('5. learn big data', 3)\n",
      "('6. capstone projects', 3)\n"
     ]
    }
   ],
   "source": [
    "for todo in switch_to_ds:\n",
    "    print(todo)"
   ]
  },
  {
   "cell_type": "markdown",
   "id": "9eeb1eaa",
   "metadata": {},
   "source": [
    "**Take 1**"
   ]
  },
  {
   "cell_type": "code",
   "execution_count": 119,
   "id": "34db32ed",
   "metadata": {},
   "outputs": [
    {
     "name": "stdout",
     "output_type": "stream",
     "text": [
      "13\n"
     ]
    }
   ],
   "source": [
    "time_total = 0\n",
    "for todo in switch_to_ds:\n",
    "    time_todo = todo[1]\n",
    "    #print(time_todo)\n",
    "    time_total += time_todo\n",
    "\n",
    "print(time_total)\n"
   ]
  },
  {
   "cell_type": "code",
   "execution_count": 121,
   "id": "5b0c7fbd",
   "metadata": {},
   "outputs": [
    {
     "name": "stdout",
     "output_type": "stream",
     "text": [
      "13\n"
     ]
    }
   ],
   "source": [
    "print(time_total)"
   ]
  },
  {
   "cell_type": "markdown",
   "id": "9f5484f6",
   "metadata": {},
   "source": [
    "**Take 2**"
   ]
  },
  {
   "cell_type": "code",
   "execution_count": 126,
   "id": "79ae7556",
   "metadata": {},
   "outputs": [
    {
     "name": "stdout",
     "output_type": "stream",
     "text": [
      "[1, 2, 1, 3, 3, 3]\n"
     ]
    }
   ],
   "source": [
    "months = []\n",
    "for todo in switch_to_ds:\n",
    "    time_todo = todo[1]\n",
    "    #print(time_todo)\n",
    "    months.append(time_todo)\n",
    "\n",
    "print(months)"
   ]
  },
  {
   "cell_type": "code",
   "execution_count": 128,
   "id": "baae5d9d-253a-4154-857a-405b9419ce8c",
   "metadata": {},
   "outputs": [
    {
     "data": {
      "text/plain": [
       "13"
      ]
     },
     "execution_count": 128,
     "metadata": {},
     "output_type": "execute_result"
    }
   ],
   "source": [
    "months = []\n",
    "for todo in switch_to_ds:\n",
    "    time_todo = todo[1]\n",
    "    #print(time_todo)\n",
    "    months.append(time_todo)\n",
    "\n",
    "sum(months)"
   ]
  },
  {
   "cell_type": "markdown",
   "id": "41706aaa",
   "metadata": {},
   "source": [
    "**String formatting**"
   ]
  },
  {
   "cell_type": "code",
   "execution_count": 132,
   "id": "d08c6e75",
   "metadata": {},
   "outputs": [
    {
     "name": "stdout",
     "output_type": "stream",
     "text": [
      "total number of months: 13\n"
     ]
    }
   ],
   "source": [
    "# print using string.format()\n",
    "print(\"total number of months: {total_months}\".format(total_months=sum(months)))\n"
   ]
  },
  {
   "cell_type": "code",
   "execution_count": 136,
   "id": "802986eb-3b42-4738-bbb0-a2f0b63ed8ef",
   "metadata": {},
   "outputs": [
    {
     "name": "stdout",
     "output_type": "stream",
     "text": [
      "total number of months: 13\n"
     ]
    }
   ],
   "source": [
    "#or \n",
    "print(\"total number of months: {}\".format(sum(months)))"
   ]
  },
  {
   "cell_type": "code",
   "execution_count": 87,
   "id": "1ab6a7d0",
   "metadata": {},
   "outputs": [
    {
     "name": "stdout",
     "output_type": "stream",
     "text": [
      "total number of months: 13\n"
     ]
    }
   ],
   "source": [
    "# print using f-string\n",
    "print(f\"total number of months: {sum(months)}\")"
   ]
  },
  {
   "cell_type": "markdown",
   "id": "a2ad5b0c",
   "metadata": {},
   "source": [
    "### 2. list comprehension"
   ]
  },
  {
   "cell_type": "code",
   "execution_count": 142,
   "id": "662cd487",
   "metadata": {},
   "outputs": [
    {
     "data": {
      "text/plain": [
       "{'k': 3}"
      ]
     },
     "execution_count": 142,
     "metadata": {},
     "output_type": "execute_result"
    }
   ],
   "source": [
    "{'k' : todo[1] for todo in switch_to_ds}"
   ]
  },
  {
   "cell_type": "markdown",
   "id": "b5a441cb",
   "metadata": {},
   "source": [
    "# 🧪 Exercise: Sentiment Analysis (round 2)"
   ]
  },
  {
   "cell_type": "markdown",
   "id": "453fcedd",
   "metadata": {},
   "source": [
    "## 1. Sentiment Analysis using vader library\n",
    "\n",
    "#### Objective\n",
    "> 1. Read the `ds_career_guide.txt`  \n",
    "> 2. Print the number of characters per row  \n",
    "> 3. Use openai to summarize each row  \n",
    "> 4. Print the summarized career guide"
   ]
  },
  {
   "cell_type": "code",
   "execution_count": 167,
   "id": "7b7711bf",
   "metadata": {},
   "outputs": [],
   "source": [
    "import os\n",
    "import openai\n",
    "\n",
    "openai.api_key = os.getenv(\"OPENAI_API_KEY\")"
   ]
  },
  {
   "cell_type": "code",
   "execution_count": 168,
   "id": "9c2340b4",
   "metadata": {},
   "outputs": [],
   "source": [
    "cg = open('ds_career_guide.txt')"
   ]
  },
  {
   "cell_type": "code",
   "execution_count": 169,
   "id": "f81c1408",
   "metadata": {},
   "outputs": [
    {
     "name": "stdout",
     "output_type": "stream",
     "text": [
      "6771\n",
      "11567\n",
      "4606\n",
      "13693\n",
      "7567\n",
      "7171\n",
      "16809\n"
     ]
    }
   ],
   "source": [
    "for line in cg:\n",
    "    print(len(line))"
   ]
  },
  {
   "cell_type": "code",
   "execution_count": null,
   "id": "b5f47b7e",
   "metadata": {},
   "outputs": [],
   "source": []
  },
  {
   "cell_type": "code",
   "execution_count": 170,
   "id": "edf1fb1c",
   "metadata": {},
   "outputs": [],
   "source": [
    "import os\n",
    "import openai\n",
    "\n",
    "openai.api_key = os.getenv(\"OPENAI_API_KEY\")\n",
    "\n",
    "cg = open('ds_career_guide.txt')\n",
    "line = cg.readlines()[0]\n",
    "prompt = \"Summarize this for a learner who wants to become a data scientist: \" + line\n",
    "response = openai.Completion.create(\n",
    "  model=\"text-davinci-003\",\n",
    "  prompt=prompt,\n",
    "  temperature=1,\n",
    "  max_tokens=64,\n",
    "  top_p=1.0,\n",
    "  frequency_penalty=0.0,\n",
    "  presence_penalty=0.0\n"
   ]
  },
  {
   "cell_type": "code",
   "execution_count": 10,
   "id": "82e430e2",
   "metadata": {},
   "outputs": [],
   "source": [
    "import os\n",
    "import openai\n",
    "\n",
    "openai.api_key = os.getenv(\"OPENAI_API_KEY\")\n",
    "\n",
    "cg = open('ds_career_guide.txt')\n",
    "responses = []\n",
    "\n",
    "for line in cg.readlines():\n",
    "    prompt = \"Summarize this for a learner who wants to become a data scientist: \" + line\n",
    "    response = openai.Completion.create(\n",
    "      model=\"text-davinci-003\",\n",
    "      prompt=prompt,\n",
    "      temperature=1,\n",
    "      max_tokens=64,\n",
    "      top_p=1.0,\n",
    "      frequency_penalty=0.0,\n",
    "      presence_penalty=0.0\n",
    "    )\n",
    "    responses.append(response.choices[0].text)\n",
    "    "
   ]
  },
  {
   "cell_type": "code",
   "execution_count": 11,
   "id": "563a803b",
   "metadata": {},
   "outputs": [
    {
     "data": {
      "text/plain": [
       "['\\nData Science is an interdisciplinary field of acquiring, managing, and analyzing data in order to uncover insights and make better decisions. It involves the scientific method, mathematics, programming, advanced analytics, AI, storytelling, and other practices to draw meaningful conclusions from data.  Data Science lifecycle steps include understanding the business challenges',\n",
       " '\\nData Scientists are experts in mathematics, statistics, programming, and machine learning algorithms, but they also need good communication skills and interpersonal skills to present and communicate data and insights. There are four main types of Data Scientists: Operational Data Scientist, ML Researcher, ML Engineer, and Data Product (Owner) Manager.',\n",
       " 'Data scientists have many potential career paths depending on their interests and skills. These include the technical track, managerial track, startups, product, and consulting. Technical roles involve becoming a lead or senior data scientist, machine learning engineer, or data engineer. Managerial roles involve leading a team of data scientists as a manager or senior',\n",
       " '\\nData Science can be overwhelming to learn as it involves many different skill sets, such as Python, SQL, R, Spark, Tableau, NoSQL, etc. The first steps to learning Data Science is to focus on the essential skills. Start by learning the basics such as SQL and Python, which are critical to',\n",
       " '\\nData science is an in-demand and lucrative career path with great growth opportunities. Skills like Python, SQL and knowledge of Big Data technologies, ML frameworks and different databases are needed to be a successful data scientist. There is a high competition for jobs, with salary depending largely on experience. Beginners with less than 2',\n",
       " '\\nTo become a data scientist, career switchers will need to have project experience to stand out in the job market. This means building a portfolio that showcases their practical skills including personal projects, data pipeline diagrams, project summaries, working notebooks and scripts, visualizations, github code and blogs. They should also consider',\n",
       " '\\nBecoming a data scientist requires persistent effort, from learning the necessary skills and building a well-structured resume to putting the time and effort into researching job postings, applying and interviewing for jobs, and networking. It also takes practice, for example doing coding-challenges, take-home assignments, and mock interviews']"
      ]
     },
     "execution_count": 11,
     "metadata": {},
     "output_type": "execute_result"
    }
   ],
   "source": [
    "responses"
   ]
  }
 ],
 "metadata": {
  "kernelspec": {
   "display_name": "Python 3 (ipykernel)",
   "language": "python",
   "name": "python3"
  },
  "language_info": {
   "codemirror_mode": {
    "name": "ipython",
    "version": 3
   },
   "file_extension": ".py",
   "mimetype": "text/x-python",
   "name": "python",
   "nbconvert_exporter": "python",
   "pygments_lexer": "ipython3",
   "version": "3.12.4"
  }
 },
 "nbformat": 4,
 "nbformat_minor": 5
}
