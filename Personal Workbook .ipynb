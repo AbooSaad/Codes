{
 "cells": [
  {
   "cell_type": "code",
   "execution_count": 1,
   "id": "160a594a-ac93-4f0a-bf92-c398b1cb12c4",
   "metadata": {},
   "outputs": [],
   "source": [
    "learn = []"
   ]
  },
  {
   "cell_type": "code",
   "execution_count": 7,
   "id": "c7614329-6438-41ab-bfc5-77e00577569b",
   "metadata": {},
   "outputs": [],
   "source": [
    "learn.append(2)"
   ]
  },
  {
   "cell_type": "code",
   "execution_count": 9,
   "id": "a88cadea-6ca4-4e80-a758-17a8144ceb56",
   "metadata": {},
   "outputs": [
    {
     "data": {
      "text/plain": [
       "[2]"
      ]
     },
     "execution_count": 9,
     "metadata": {},
     "output_type": "execute_result"
    }
   ],
   "source": [
    "learn\n"
   ]
  },
  {
   "cell_type": "code",
   "execution_count": 11,
   "id": "f4e85d60-97e9-4b8c-b5ca-11086b798a1e",
   "metadata": {},
   "outputs": [],
   "source": [
    "learn = ['book','table','gate','water']"
   ]
  },
  {
   "cell_type": "code",
   "execution_count": 27,
   "id": "487b46b4-1e15-4853-9ac2-a7754e65e0a9",
   "metadata": {},
   "outputs": [
    {
     "data": {
      "text/plain": [
       "0"
      ]
     },
     "execution_count": 27,
     "metadata": {},
     "output_type": "execute_result"
    }
   ],
   "source": [
    "learn.index('book')"
   ]
  },
  {
   "cell_type": "code",
   "execution_count": 17,
   "id": "d0a5dfc1-34a3-4a93-a235-751e557b3d64",
   "metadata": {},
   "outputs": [
    {
     "data": {
      "text/plain": [
       "['book', 'table', 'gate']"
      ]
     },
     "execution_count": 17,
     "metadata": {},
     "output_type": "execute_result"
    }
   ],
   "source": [
    "learn"
   ]
  },
  {
   "cell_type": "code",
   "execution_count": 19,
   "id": "2653893d-bee4-450a-82ef-edd3ac3d584d",
   "metadata": {},
   "outputs": [
    {
     "ename": "TypeError",
     "evalue": "list.pop() takes no keyword arguments",
     "output_type": "error",
     "traceback": [
      "\u001b[1;31m---------------------------------------------------------------------------\u001b[0m",
      "\u001b[1;31mTypeError\u001b[0m                                 Traceback (most recent call last)",
      "Cell \u001b[1;32mIn[19], line 1\u001b[0m\n\u001b[1;32m----> 1\u001b[0m learn\u001b[38;5;241m.\u001b[39mpop(index\u001b[38;5;241m=\u001b[39m\u001b[38;5;241m2\u001b[39m)\n",
      "\u001b[1;31mTypeError\u001b[0m: list.pop() takes no keyword arguments"
     ]
    }
   ],
   "source": [
    " learn."
   ]
  },
  {
   "cell_type": "code",
   "execution_count": 21,
   "id": "54445800-a981-4122-99f5-dbdc5b6ffbdb",
   "metadata": {},
   "outputs": [],
   "source": [
    "k =('customer churn use case', 'forecasting use case')"
   ]
  },
  {
   "cell_type": "code",
   "execution_count": 23,
   "id": "a211e785-98f2-4e67-9015-4e3752e50eda",
   "metadata": {},
   "outputs": [
    {
     "data": {
      "text/plain": [
       "tuple"
      ]
     },
     "execution_count": 23,
     "metadata": {},
     "output_type": "execute_result"
    }
   ],
   "source": [
    "type(k)"
   ]
  },
  {
   "cell_type": "code",
   "execution_count": 25,
   "id": "4ccaec9e-64e7-47a4-9dc2-c0706f67ac09",
   "metadata": {},
   "outputs": [],
   "source": [
    "learning_plan_tuple = (\n",
    "    '1. learn sql',\n",
    "    '2. learn python',\n",
    "    '3. learn pandas dataframe',\n",
    "    '4. learn machine learning',\n",
    "    '5. learn big data'\n",
    ")"
   ]
  },
  {
   "cell_type": "code",
   "execution_count": 29,
   "id": "afac3d2f-61b2-4b64-b353-b4f10284398e",
   "metadata": {},
   "outputs": [],
   "source": [
    "s = {1,2,3}"
   ]
  },
  {
   "cell_type": "code",
   "execution_count": 33,
   "id": "49f89f60-aafb-4448-be5e-8b03227073d5",
   "metadata": {
    "scrolled": true
   },
   "outputs": [
    {
     "ename": "TypeError",
     "evalue": "'set' object does not support item assignment",
     "output_type": "error",
     "traceback": [
      "\u001b[1;31m---------------------------------------------------------------------------\u001b[0m",
      "\u001b[1;31mTypeError\u001b[0m                                 Traceback (most recent call last)",
      "Cell \u001b[1;32mIn[33], line 1\u001b[0m\n\u001b[1;32m----> 1\u001b[0m s[\u001b[38;5;241m0\u001b[39m]\u001b[38;5;241m=\u001b[39m \u001b[38;5;241m5\u001b[39m\n",
      "\u001b[1;31mTypeError\u001b[0m: 'set' object does not support item assignment"
     ]
    }
   ],
   "source": [
    "s[0]= 5"
   ]
  },
  {
   "cell_type": "code",
   "execution_count": 54,
   "id": "1f1a8f26-900f-4b65-b58c-2f97bc514e61",
   "metadata": {},
   "outputs": [],
   "source": [
    "job_success_key_factors = {\n",
    "    'coding': ['python', 'sql'], \n",
    "    'data': ['pandas', 'visualization'],\n",
    "    'ml': ['regression', 'classification'],\n",
    "    'business': ['communications', 'project management']\n",
    "}"
   ]
  },
  {
   "cell_type": "code",
   "execution_count": 45,
   "id": "528e4591-8ef5-406b-95c4-c33b74396213",
   "metadata": {},
   "outputs": [
    {
     "data": {
      "text/plain": [
       "dict_keys(['coding', 'data', 'ml', 'business'])"
      ]
     },
     "execution_count": 45,
     "metadata": {},
     "output_type": "execute_result"
    }
   ],
   "source": [
    "job_success_key_factors.keys()"
   ]
  },
  {
   "cell_type": "code",
   "execution_count": 50,
   "id": "d2c2ab78-be1a-4005-8906-25997b89c292",
   "metadata": {},
   "outputs": [
    {
     "data": {
      "text/plain": [
       "['coding', 'data', 'ml', 'business']"
      ]
     },
     "execution_count": 50,
     "metadata": {},
     "output_type": "execute_result"
    }
   ],
   "source": [
    "list(job_success_key_factors.keys())"
   ]
  },
  {
   "cell_type": "code",
   "execution_count": 56,
   "id": "2e94a022-bff5-450b-a918-a4df7bb9cd9a",
   "metadata": {},
   "outputs": [],
   "source": [
    "job_success_key_factors['coding']=['dl']"
   ]
  },
  {
   "cell_type": "code",
   "execution_count": 58,
   "id": "41a780e0-03c8-4011-b0a0-185c578d5658",
   "metadata": {},
   "outputs": [
    {
     "data": {
      "text/plain": [
       "{'coding': ['dl'],\n",
       " 'data': ['pandas', 'visualization'],\n",
       " 'ml': ['regression', 'classification'],\n",
       " 'business': ['communications', 'project management']}"
      ]
     },
     "execution_count": 58,
     "metadata": {},
     "output_type": "execute_result"
    }
   ],
   "source": [
    "job_success_key_factors"
   ]
  },
  {
   "cell_type": "code",
   "execution_count": 68,
   "id": "f60b510e-0ce9-49b1-a3e3-c5b7315c0b85",
   "metadata": {},
   "outputs": [],
   "source": [
    "t=job_success_key_factors.items()"
   ]
  },
  {
   "cell_type": "code",
   "execution_count": 73,
   "id": "d0dc0492-5cd1-42c3-919e-674d6a5634b8",
   "metadata": {},
   "outputs": [],
   "source": [
    "g=list(t)"
   ]
  },
  {
   "cell_type": "code",
   "execution_count": 79,
   "id": "765cf008-1c75-4f25-897a-769475b26b80",
   "metadata": {},
   "outputs": [
    {
     "data": {
      "text/plain": [
       "'visualization'"
      ]
     },
     "execution_count": 79,
     "metadata": {},
     "output_type": "execute_result"
    }
   ],
   "source": [
    "g[1][-1][-1]"
   ]
  },
  {
   "cell_type": "code",
   "execution_count": 81,
   "id": "430a7ea0-916c-4fd1-b7cc-9f9054b1932c",
   "metadata": {},
   "outputs": [],
   "source": [
    "job_success_key_factors['big']=['data',3]"
   ]
  },
  {
   "cell_type": "code",
   "execution_count": 83,
   "id": "bd89018a-27b2-4aae-b0d5-e2c190e9fc91",
   "metadata": {},
   "outputs": [
    {
     "data": {
      "text/plain": [
       "{'coding': ['dl'],\n",
       " 'data': ['pandas', 'visualization'],\n",
       " 'ml': ['regression', 'classification'],\n",
       " 'business': ['communications', 'project management'],\n",
       " 'big': ['data', 3]}"
      ]
     },
     "execution_count": 83,
     "metadata": {},
     "output_type": "execute_result"
    }
   ],
   "source": [
    "job_success_key_factors"
   ]
  },
  {
   "cell_type": "code",
   "execution_count": 85,
   "id": "b6bf11e5-6b6a-498c-85b1-71f3e15c3ac3",
   "metadata": {},
   "outputs": [],
   "source": [
    "job_success_key_factors['big']=['spark', 'apache']"
   ]
  },
  {
   "cell_type": "code",
   "execution_count": 87,
   "id": "92dc368f-dacf-4a78-856a-c1d827e5c78a",
   "metadata": {},
   "outputs": [
    {
     "data": {
      "text/plain": [
       "{'coding': ['dl'],\n",
       " 'data': ['pandas', 'visualization'],\n",
       " 'ml': ['regression', 'classification'],\n",
       " 'business': ['communications', 'project management'],\n",
       " 'big': ['spark', 'apache']}"
      ]
     },
     "execution_count": 87,
     "metadata": {},
     "output_type": "execute_result"
    }
   ],
   "source": [
    "job_success_key_factors"
   ]
  },
  {
   "cell_type": "code",
   "execution_count": 91,
   "id": "dd86c14a-d3fe-48d3-98c5-93443e05721e",
   "metadata": {},
   "outputs": [],
   "source": [
    "job_success_key_factors.update({'coding':['hadoop']})"
   ]
  },
  {
   "cell_type": "code",
   "execution_count": 94,
   "id": "4b5162db-204e-450c-9a88-40ec559b0914",
   "metadata": {},
   "outputs": [
    {
     "data": {
      "text/plain": [
       "{'coding': ['hadoop'],\n",
       " 'data': ['pandas', 'visualization'],\n",
       " 'ml': ['regression', 'classification'],\n",
       " 'business': ['communications', 'project management'],\n",
       " 'big': ['spark', 'apache']}"
      ]
     },
     "execution_count": 94,
     "metadata": {},
     "output_type": "execute_result"
    }
   ],
   "source": [
    "job_success_key_factors"
   ]
  },
  {
   "cell_type": "code",
   "execution_count": 96,
   "id": "c2a1551a-68f0-48c7-988f-a23cc442de28",
   "metadata": {},
   "outputs": [],
   "source": [
    "job_success_key_factors.update({'engineering':['hadoop']})"
   ]
  },
  {
   "cell_type": "code",
   "execution_count": 98,
   "id": "bdc732d6-e491-4854-9dd2-326b995f466e",
   "metadata": {},
   "outputs": [
    {
     "data": {
      "text/plain": [
       "{'coding': ['hadoop'],\n",
       " 'data': ['pandas', 'visualization'],\n",
       " 'ml': ['regression', 'classification'],\n",
       " 'business': ['communications', 'project management'],\n",
       " 'big': ['spark', 'apache'],\n",
       " 'engineering': ['hadoop']}"
      ]
     },
     "execution_count": 98,
     "metadata": {},
     "output_type": "execute_result"
    }
   ],
   "source": [
    "job_success_key_factors"
   ]
  },
  {
   "cell_type": "code",
   "execution_count": null,
   "id": "7006c49a-44a1-4d4a-b891-06459bd0de4d",
   "metadata": {},
   "outputs": [],
   "source": []
  }
 ],
 "metadata": {
  "kernelspec": {
   "display_name": "Python 3 (ipykernel)",
   "language": "python",
   "name": "python3"
  },
  "language_info": {
   "codemirror_mode": {
    "name": "ipython",
    "version": 3
   },
   "file_extension": ".py",
   "mimetype": "text/x-python",
   "name": "python",
   "nbconvert_exporter": "python",
   "pygments_lexer": "ipython3",
   "version": "3.12.4"
  }
 },
 "nbformat": 4,
 "nbformat_minor": 5
}
