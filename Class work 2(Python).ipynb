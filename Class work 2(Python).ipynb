{
 "cells": [
  {
   "cell_type": "markdown",
   "id": "1a57400c-18b2-4412-839f-02163587b928",
   "metadata": {},
   "source": [
    "<img align=\"left\" src=\"https://weclouddata.s3.amazonaws.com/images/logos/wcd_logo_new_2.png\"  width='15%'>\n",
    "<br></br><br></br>\n",
    "\n",
    "<h1 align=\"left\"> Data Fundamentals Course - Python Lecture 1 </h1>\n",
    "\n",
    "### Objectives\n",
    "- Learn basic python concepts & syntax\n",
    "- Understand use cases\n",
    "- Learn basic string methods\n",
    "- Complete a mini sentiment analysis exercise using python APIs\n",
    "\n",
    "\n",
    "### Python Concepts\n",
    "- Identifier\n",
    "- Keyword\n",
    "- Object\n",
    "- Method\n",
    "- Function\n",
    "- String\n",
    "- Control Flow\n",
    "\n",
    "### Demo/Exercise\n",
    "- Sentiment Classification\n",
    "\n",
    "\n",
    "### Python Libraries Used\n",
    "\n",
    "> ```!pip install openai  ```  \n",
    "> ```!pip install vaderSentiment ```\n",
    "\n",
    "---\n",
    "<br>\n"
   ]
  },
  {
   "cell_type": "code",
   "execution_count": 2,
   "id": "b4b34a58-f0e7-46df-94cd-24239f88053a",
   "metadata": {},
   "outputs": [
    {
     "name": "stdout",
     "output_type": "stream",
     "text": [
      "Requirement already satisfied: openai in c:\\users\\pc\\anaconda3\\lib\\site-packages (1.25.0)\n",
      "Requirement already satisfied: anyio<5,>=3.5.0 in c:\\users\\pc\\anaconda3\\lib\\site-packages (from openai) (4.2.0)\n",
      "Requirement already satisfied: distro<2,>=1.7.0 in c:\\users\\pc\\anaconda3\\lib\\site-packages (from openai) (1.9.0)\n",
      "Requirement already satisfied: httpx<1,>=0.23.0 in c:\\users\\pc\\anaconda3\\lib\\site-packages (from openai) (0.26.0)\n",
      "Requirement already satisfied: pydantic<3,>=1.9.0 in c:\\users\\pc\\anaconda3\\lib\\site-packages (from openai) (2.5.3)\n",
      "Requirement already satisfied: sniffio in c:\\users\\pc\\anaconda3\\lib\\site-packages (from openai) (1.3.0)\n",
      "Requirement already satisfied: tqdm>4 in c:\\users\\pc\\anaconda3\\lib\\site-packages (from openai) (4.66.4)\n",
      "Requirement already satisfied: typing-extensions<5,>=4.7 in c:\\users\\pc\\anaconda3\\lib\\site-packages (from openai) (4.11.0)\n",
      "Requirement already satisfied: idna>=2.8 in c:\\users\\pc\\anaconda3\\lib\\site-packages (from anyio<5,>=3.5.0->openai) (3.7)\n",
      "Requirement already satisfied: certifi in c:\\users\\pc\\anaconda3\\lib\\site-packages (from httpx<1,>=0.23.0->openai) (2024.6.2)\n",
      "Requirement already satisfied: httpcore==1.* in c:\\users\\pc\\anaconda3\\lib\\site-packages (from httpx<1,>=0.23.0->openai) (1.0.2)\n",
      "Requirement already satisfied: h11<0.15,>=0.13 in c:\\users\\pc\\anaconda3\\lib\\site-packages (from httpcore==1.*->httpx<1,>=0.23.0->openai) (0.14.0)\n",
      "Requirement already satisfied: annotated-types>=0.4.0 in c:\\users\\pc\\anaconda3\\lib\\site-packages (from pydantic<3,>=1.9.0->openai) (0.6.0)\n",
      "Requirement already satisfied: pydantic-core==2.14.6 in c:\\users\\pc\\anaconda3\\lib\\site-packages (from pydantic<3,>=1.9.0->openai) (2.14.6)\n",
      "Requirement already satisfied: colorama in c:\\users\\pc\\anaconda3\\lib\\site-packages (from tqdm>4->openai) (0.4.6)\n"
     ]
    }
   ],
   "source": [
    "!pip install openai"
   ]
  },
  {
   "cell_type": "markdown",
   "id": "ed1b1e8c-6968-47df-ba58-9315647163de",
   "metadata": {},
   "source": [
    "!pip install vaderSentiment\n"
   ]
  },
  {
   "cell_type": "markdown",
   "id": "f367f10e",
   "metadata": {},
   "source": [
    "## 🚗 Navigating Jupyter Notebooks\n",
    "\n",
    "- Start/Stop/Restart kernels\n",
    "- Insert cells\n",
    "- Run cells\n",
    "- Clear output\n",
    "- Get help / docstring"
   ]
  },
  {
   "cell_type": "code",
   "execution_count": 7,
   "id": "cfbb0050-0bd1-4584-8057-3bdeb2aba8ad",
   "metadata": {},
   "outputs": [],
   "source": [
    "import keyword"
   ]
  },
  {
   "cell_type": "code",
   "execution_count": 32,
   "id": "c7588c40-e64a-4def-a9ef-c06a7a21ee96",
   "metadata": {},
   "outputs": [
    {
     "data": {
      "text/plain": [
       "['False',\n",
       " 'None',\n",
       " 'True',\n",
       " 'and',\n",
       " 'as',\n",
       " 'assert',\n",
       " 'async',\n",
       " 'await',\n",
       " 'break',\n",
       " 'class',\n",
       " 'continue',\n",
       " 'def',\n",
       " 'del',\n",
       " 'elif',\n",
       " 'else',\n",
       " 'except',\n",
       " 'finally',\n",
       " 'for',\n",
       " 'from',\n",
       " 'global',\n",
       " 'if',\n",
       " 'import',\n",
       " 'in',\n",
       " 'is',\n",
       " 'lambda',\n",
       " 'nonlocal',\n",
       " 'not',\n",
       " 'or',\n",
       " 'pass',\n",
       " 'raise',\n",
       " 'return',\n",
       " 'try',\n",
       " 'while',\n",
       " 'with',\n",
       " 'yield']"
      ]
     },
     "execution_count": 32,
     "metadata": {},
     "output_type": "execute_result"
    }
   ],
   "source": [
    "keyword.kwlist"
   ]
  },
  {
   "cell_type": "markdown",
   "id": "9e339030",
   "metadata": {},
   "source": [
    "---"
   ]
  },
  {
   "cell_type": "markdown",
   "id": "23f9ab4f",
   "metadata": {},
   "source": [
    "## 🐍 Identifiers"
   ]
  },
  {
   "cell_type": "code",
   "execution_count": null,
   "id": "9d2f77e5",
   "metadata": {},
   "outputs": [],
   "source": [
    "data = 123"
   ]
  },
  {
   "cell_type": "code",
   "execution_count": null,
   "id": "1f4b711f",
   "metadata": {},
   "outputs": [],
   "source": [
    "prompt = 'What is Threads?'"
   ]
  },
  {
   "cell_type": "code",
   "execution_count": null,
   "id": "19164da7",
   "metadata": {},
   "outputs": [],
   "source": [
    "print(prompt)"
   ]
  },
  {
   "cell_type": "markdown",
   "id": "afe80f56",
   "metadata": {},
   "source": [
    "## 🐍 Keywords\n",
    "\n",
    "> - get a list of python keywords\n",
    "> - keywords cannot be used as variables"
   ]
  },
  {
   "cell_type": "code",
   "execution_count": null,
   "id": "5045f45e",
   "metadata": {},
   "outputs": [],
   "source": [
    "import keyword"
   ]
  },
  {
   "cell_type": "code",
   "execution_count": null,
   "id": "eed0e068",
   "metadata": {},
   "outputs": [],
   "source": [
    "keyword.kwlist"
   ]
  },
  {
   "cell_type": "code",
   "execution_count": null,
   "id": "48fcafc3",
   "metadata": {},
   "outputs": [],
   "source": [
    "class = 1"
   ]
  },
  {
   "cell_type": "markdown",
   "id": "e96f5d69",
   "metadata": {},
   "source": [
    "> 💡 Python keywords cannot be used as identifiers"
   ]
  },
  {
   "attachments": {},
   "cell_type": "markdown",
   "id": "e301b3e9",
   "metadata": {},
   "source": [
    "## 🐍 Objects\n",
    "\n",
    "> - create an object data\n",
    "> - get the object address\n",
    "> - import a module, e.g., openai\n",
    ">   - observe the object\n",
    ">   - overwrite the object with some other values\n",
    ">   - check the memory address\n",
    ">   - re-import the module and check the memory address again "
   ]
  },
  {
   "cell_type": "code",
   "execution_count": null,
   "id": "42b4bed8",
   "metadata": {},
   "outputs": [],
   "source": [
    "id(data)"
   ]
  },
  {
   "cell_type": "code",
   "execution_count": 15,
   "id": "92f52180",
   "metadata": {},
   "outputs": [],
   "source": [
    "data = 123"
   ]
  },
  {
   "cell_type": "code",
   "execution_count": 17,
   "id": "299cf6e1",
   "metadata": {},
   "outputs": [
    {
     "data": {
      "text/plain": [
       "140719312947448"
      ]
     },
     "execution_count": 17,
     "metadata": {},
     "output_type": "execute_result"
    }
   ],
   "source": [
    "id(data)"
   ]
  },
  {
   "cell_type": "code",
   "execution_count": 19,
   "id": "c82d3bd3",
   "metadata": {},
   "outputs": [
    {
     "data": {
      "text/plain": [
       "<module 'openai' from 'C:\\\\Users\\\\pc\\\\anaconda3\\\\Lib\\\\site-packages\\\\openai\\\\__init__.py'>"
      ]
     },
     "execution_count": 19,
     "metadata": {},
     "output_type": "execute_result"
    }
   ],
   "source": [
    "import openai\n",
    "openai"
   ]
  },
  {
   "cell_type": "code",
   "execution_count": 26,
   "id": "b40e0e07-bc4a-499d-936a-1ce81d95f3b6",
   "metadata": {},
   "outputs": [
    {
     "data": {
      "text/plain": [
       "openai.APIError"
      ]
     },
     "execution_count": 26,
     "metadata": {},
     "output_type": "execute_result"
    }
   ],
   "source": [
    "openai"
   ]
  },
  {
   "cell_type": "markdown",
   "id": "37d8df9a",
   "metadata": {},
   "source": [
    "Use the `type` keyword to print the type of an object"
   ]
  },
  {
   "cell_type": "code",
   "execution_count": 34,
   "id": "35740576",
   "metadata": {},
   "outputs": [
    {
     "data": {
      "text/plain": [
       "module"
      ]
     },
     "execution_count": 34,
     "metadata": {},
     "output_type": "execute_result"
    }
   ],
   "source": [
    "type(openai)"
   ]
  },
  {
   "cell_type": "markdown",
   "id": "ae7fde32",
   "metadata": {},
   "source": [
    "Get the memory address of this object"
   ]
  },
  {
   "cell_type": "code",
   "execution_count": 38,
   "id": "897b3d96",
   "metadata": {},
   "outputs": [
    {
     "data": {
      "text/plain": [
       "3033777032784"
      ]
     },
     "execution_count": 38,
     "metadata": {},
     "output_type": "execute_result"
    }
   ],
   "source": [
    "id(openai)  #memory location of openai"
   ]
  },
  {
   "cell_type": "markdown",
   "id": "3d214f0f",
   "metadata": {},
   "source": [
    "Assign a new value to the object"
   ]
  },
  {
   "cell_type": "code",
   "execution_count": 46,
   "id": "d0c85832",
   "metadata": {},
   "outputs": [],
   "source": [
    "openai = 'awesome' #it overwrites the initial openai object"
   ]
  },
  {
   "cell_type": "code",
   "execution_count": 48,
   "id": "c43f6b78",
   "metadata": {},
   "outputs": [
    {
     "data": {
      "text/plain": [
       "str"
      ]
     },
     "execution_count": 48,
     "metadata": {},
     "output_type": "execute_result"
    }
   ],
   "source": [
    "type(openai)"
   ]
  },
  {
   "cell_type": "markdown",
   "id": "f778aec4",
   "metadata": {},
   "source": [
    "Observe the value of this object"
   ]
  },
  {
   "cell_type": "code",
   "execution_count": 50,
   "id": "cd77008f",
   "metadata": {},
   "outputs": [
    {
     "data": {
      "text/plain": [
       "3033953497280"
      ]
     },
     "execution_count": 50,
     "metadata": {},
     "output_type": "execute_result"
    }
   ],
   "source": [
    "id(openai)"
   ]
  },
  {
   "cell_type": "code",
   "execution_count": null,
   "id": "761ca779",
   "metadata": {},
   "outputs": [],
   "source": [
    "id('awesome')"
   ]
  },
  {
   "cell_type": "markdown",
   "id": "d71aa9ea",
   "metadata": {},
   "source": [
    "Re-import openai package"
   ]
  },
  {
   "cell_type": "code",
   "execution_count": 52,
   "id": "44150f94",
   "metadata": {},
   "outputs": [],
   "source": [
    "import openai"
   ]
  },
  {
   "cell_type": "code",
   "execution_count": 54,
   "id": "58942ed1",
   "metadata": {},
   "outputs": [
    {
     "data": {
      "text/plain": [
       "3033777032784"
      ]
     },
     "execution_count": 54,
     "metadata": {},
     "output_type": "execute_result"
    }
   ],
   "source": [
    "id(openai)"
   ]
  },
  {
   "cell_type": "code",
   "execution_count": null,
   "id": "2bc1af18",
   "metadata": {},
   "outputs": [],
   "source": []
  },
  {
   "cell_type": "markdown",
   "id": "e573850f",
   "metadata": {},
   "source": [
    "## 🐍 Methods\n",
    "\n",
    "> Objects have methods and attributes\n"
   ]
  },
  {
   "cell_type": "code",
   "execution_count": 72,
   "id": "e5e2beed",
   "metadata": {},
   "outputs": [],
   "source": [
    "import openai"
   ]
  },
  {
   "cell_type": "code",
   "execution_count": 74,
   "id": "33233179",
   "metadata": {},
   "outputs": [
    {
     "data": {
      "text/plain": [
       "['APIConnectionError',\n",
       " 'APIError',\n",
       " 'APIResponse',\n",
       " 'APIResponseValidationError',\n",
       " 'APIStatusError',\n",
       " 'APITimeoutError',\n",
       " 'AssistantEventHandler',\n",
       " 'AsyncAPIResponse',\n",
       " 'AsyncAssistantEventHandler',\n",
       " 'AsyncAzureOpenAI',\n",
       " 'AsyncClient',\n",
       " 'AsyncOpenAI',\n",
       " 'AsyncStream',\n",
       " 'Audio',\n",
       " 'AuthenticationError',\n",
       " 'AzureOpenAI',\n",
       " 'BadRequestError',\n",
       " 'BaseModel',\n",
       " 'ChatCompletion',\n",
       " 'Client',\n",
       " 'Completion',\n",
       " 'ConflictError',\n",
       " 'Customer',\n",
       " 'DEFAULT_CONNECTION_LIMITS',\n",
       " 'DEFAULT_MAX_RETRIES',\n",
       " 'DEFAULT_TIMEOUT',\n",
       " 'DefaultAsyncHttpxClient',\n",
       " 'DefaultHttpxClient',\n",
       " 'Deployment',\n",
       " 'Edit',\n",
       " 'Embedding',\n",
       " 'Engine',\n",
       " 'ErrorObject',\n",
       " 'File',\n",
       " 'FineTune',\n",
       " 'FineTuningJob',\n",
       " 'Image',\n",
       " 'InternalServerError',\n",
       " 'Model',\n",
       " 'Moderation',\n",
       " 'NOT_GIVEN',\n",
       " 'NoneType',\n",
       " 'NotFoundError',\n",
       " 'NotGiven',\n",
       " 'OpenAI',\n",
       " 'OpenAIError',\n",
       " 'PermissionDeniedError',\n",
       " 'ProxiesTypes',\n",
       " 'RateLimitError',\n",
       " 'RequestOptions',\n",
       " 'Stream',\n",
       " 'Timeout',\n",
       " 'Transport',\n",
       " 'UnprocessableEntityError',\n",
       " 'VERSION',\n",
       " '_AmbiguousModuleClientUsageError',\n",
       " '_ApiType',\n",
       " '_AzureModuleClient',\n",
       " '_ModuleClient',\n",
       " '__all__',\n",
       " '__annotations__',\n",
       " '__builtins__',\n",
       " '__cached__',\n",
       " '__doc__',\n",
       " '__file__',\n",
       " '__loader__',\n",
       " '__locals',\n",
       " '__name',\n",
       " '__name__',\n",
       " '__package__',\n",
       " '__path__',\n",
       " '__spec__',\n",
       " '__title__',\n",
       " '__version__',\n",
       " '_azure',\n",
       " '_base_client',\n",
       " '_client',\n",
       " '_compat',\n",
       " '_constants',\n",
       " '_exceptions',\n",
       " '_extras',\n",
       " '_files',\n",
       " '_has_azure_ad_credentials',\n",
       " '_has_azure_credentials',\n",
       " '_has_openai_credentials',\n",
       " '_httpx',\n",
       " '_legacy_response',\n",
       " '_load_client',\n",
       " '_models',\n",
       " '_module_client',\n",
       " '_os',\n",
       " '_qs',\n",
       " '_reset_client',\n",
       " '_resource',\n",
       " '_response',\n",
       " '_setup_logging',\n",
       " '_streaming',\n",
       " '_t',\n",
       " '_te',\n",
       " '_types',\n",
       " '_utils',\n",
       " '_version',\n",
       " 'annotations',\n",
       " 'api_key',\n",
       " 'api_type',\n",
       " 'api_version',\n",
       " 'audio',\n",
       " 'azure_ad_token',\n",
       " 'azure_ad_token_provider',\n",
       " 'azure_endpoint',\n",
       " 'base_url',\n",
       " 'batches',\n",
       " 'beta',\n",
       " 'chat',\n",
       " 'completions',\n",
       " 'default_headers',\n",
       " 'default_query',\n",
       " 'embeddings',\n",
       " 'file_from_path',\n",
       " 'files',\n",
       " 'fine_tuning',\n",
       " 'http_client',\n",
       " 'images',\n",
       " 'lib',\n",
       " 'max_retries',\n",
       " 'models',\n",
       " 'moderations',\n",
       " 'organization',\n",
       " 'override',\n",
       " 'pagination',\n",
       " 'project',\n",
       " 'resources',\n",
       " 'timeout',\n",
       " 'types',\n",
       " 'version']"
      ]
     },
     "execution_count": 74,
     "metadata": {},
     "output_type": "execute_result"
    }
   ],
   "source": [
    "dir(openai)"
   ]
  },
  {
   "cell_type": "code",
   "execution_count": 76,
   "id": "b459b188",
   "metadata": {},
   "outputs": [
    {
     "data": {
      "text/plain": [
       "str"
      ]
     },
     "execution_count": 76,
     "metadata": {},
     "output_type": "execute_result"
    }
   ],
   "source": [
    "type(openai.VERSION)\n"
   ]
  },
  {
   "cell_type": "code",
   "execution_count": 78,
   "id": "e28f3d7f-9c39-4150-8584-fabc07ac08ac",
   "metadata": {},
   "outputs": [
    {
     "data": {
      "text/plain": [
       "'1.25.0'"
      ]
     },
     "execution_count": 78,
     "metadata": {},
     "output_type": "execute_result"
    }
   ],
   "source": [
    "openai.VERSION"
   ]
  },
  {
   "cell_type": "code",
   "execution_count": 80,
   "id": "464c9f44",
   "metadata": {},
   "outputs": [
    {
     "name": "stdout",
     "output_type": "stream",
     "text": [
      "Help on APIRemovedInV1Proxy in module openai.lib._old_api:\n",
      "\n",
      "APIRemovedInV1Proxy\n"
     ]
    }
   ],
   "source": [
    "help(openai.Completion)"
   ]
  },
  {
   "cell_type": "code",
   "execution_count": 82,
   "id": "991bf1fd",
   "metadata": {},
   "outputs": [
    {
     "data": {
      "text/plain": [
       "APIRemovedInV1Proxy"
      ]
     },
     "execution_count": 82,
     "metadata": {},
     "output_type": "execute_result"
    }
   ],
   "source": [
    "openai.Completion"
   ]
  },
  {
   "cell_type": "code",
   "execution_count": 84,
   "id": "6cc99cfa",
   "metadata": {},
   "outputs": [
    {
     "name": "stdout",
     "output_type": "stream",
     "text": [
      "Help on APIRemovedInV1Proxy in module openai.lib._old_api:\n",
      "\n",
      "APIRemovedInV1Proxy\n"
     ]
    }
   ],
   "source": [
    "help(openai.Completion.create)"
   ]
  },
  {
   "cell_type": "code",
   "execution_count": 70,
   "id": "f905de15",
   "metadata": {},
   "outputs": [
    {
     "ename": "APIRemovedInV1",
     "evalue": "\n\nYou tried to access openai.Completion, but this is no longer supported in openai>=1.0.0 - see the README at https://github.com/openai/openai-python for the API.\n\nYou can run `openai migrate` to automatically upgrade your codebase to use the 1.0.0 interface. \n\nAlternatively, you can pin your installation to the old version, e.g. `pip install openai==0.28`\n\nA detailed migration guide is available here: https://github.com/openai/openai-python/discussions/742\n",
     "output_type": "error",
     "traceback": [
      "\u001b[1;31m---------------------------------------------------------------------------\u001b[0m",
      "\u001b[1;31mAPIRemovedInV1\u001b[0m                            Traceback (most recent call last)",
      "Cell \u001b[1;32mIn[70], line 1\u001b[0m\n\u001b[1;32m----> 1\u001b[0m openai\u001b[38;5;241m.\u001b[39mCompletion\u001b[38;5;241m.\u001b[39mcreate(\n\u001b[0;32m      2\u001b[0m     model \u001b[38;5;241m=\u001b[39m \u001b[38;5;124m\"\u001b[39m\u001b[38;5;124mtext-davinci-003\u001b[39m\u001b[38;5;124m\"\u001b[39m,\n\u001b[0;32m      3\u001b[0m     prompt \u001b[38;5;241m=\u001b[39m \u001b[38;5;124m\"\u001b[39m\u001b[38;5;124mTell me something about NFL\u001b[39m\u001b[38;5;124m\"\u001b[39m\n\u001b[0;32m      4\u001b[0m )\n",
      "File \u001b[1;32m~\\anaconda3\\Lib\\site-packages\\openai\\lib\\_old_api.py:39\u001b[0m, in \u001b[0;36mAPIRemovedInV1Proxy.__call__\u001b[1;34m(self, *_args, **_kwargs)\u001b[0m\n\u001b[0;32m     38\u001b[0m \u001b[38;5;28;01mdef\u001b[39;00m \u001b[38;5;21m__call__\u001b[39m(\u001b[38;5;28mself\u001b[39m, \u001b[38;5;241m*\u001b[39m_args: Any, \u001b[38;5;241m*\u001b[39m\u001b[38;5;241m*\u001b[39m_kwargs: Any) \u001b[38;5;241m-\u001b[39m\u001b[38;5;241m>\u001b[39m Any:\n\u001b[1;32m---> 39\u001b[0m     \u001b[38;5;28;01mraise\u001b[39;00m APIRemovedInV1(symbol\u001b[38;5;241m=\u001b[39m\u001b[38;5;28mself\u001b[39m\u001b[38;5;241m.\u001b[39m_symbol)\n",
      "\u001b[1;31mAPIRemovedInV1\u001b[0m: \n\nYou tried to access openai.Completion, but this is no longer supported in openai>=1.0.0 - see the README at https://github.com/openai/openai-python for the API.\n\nYou can run `openai migrate` to automatically upgrade your codebase to use the 1.0.0 interface. \n\nAlternatively, you can pin your installation to the old version, e.g. `pip install openai==0.28`\n\nA detailed migration guide is available here: https://github.com/openai/openai-python/discussions/742\n"
     ]
    }
   ],
   "source": [
    "openai.Completion.create(\n",
    "    model = \"text-davinci-003\",\n",
    "    prompt = \"Tell me something about NFL\"\n",
    ")"
   ]
  },
  {
   "cell_type": "code",
   "execution_count": null,
   "id": "9893c2c0",
   "metadata": {},
   "outputs": [],
   "source": []
  },
  {
   "cell_type": "markdown",
   "id": "239649be",
   "metadata": {},
   "source": [
    "## 🐍 Builtin Functions\n",
    "\n",
    "> - try the input function\n"
   ]
  },
  {
   "cell_type": "code",
   "execution_count": 90,
   "id": "53fa9cb3",
   "metadata": {},
   "outputs": [
    {
     "name": "stdout",
     "output_type": "stream",
     "text": [
      "['ArithmeticError', 'AssertionError', 'AttributeError', 'BaseException', 'BaseExceptionGroup', 'BlockingIOError', 'BrokenPipeError', 'BufferError', 'BytesWarning', 'ChildProcessError', 'ConnectionAbortedError', 'ConnectionError', 'ConnectionRefusedError', 'ConnectionResetError', 'DeprecationWarning', 'EOFError', 'Ellipsis', 'EncodingWarning', 'EnvironmentError', 'Exception', 'ExceptionGroup', 'False', 'FileExistsError', 'FileNotFoundError', 'FloatingPointError', 'FutureWarning', 'GeneratorExit', 'IOError', 'ImportError', 'ImportWarning', 'IndentationError', 'IndexError', 'InterruptedError', 'IsADirectoryError', 'KeyError', 'KeyboardInterrupt', 'LookupError', 'MemoryError', 'ModuleNotFoundError', 'NameError', 'None', 'NotADirectoryError', 'NotImplemented', 'NotImplementedError', 'OSError', 'OverflowError', 'PendingDeprecationWarning', 'PermissionError', 'ProcessLookupError', 'RecursionError', 'ReferenceError', 'ResourceWarning', 'RuntimeError', 'RuntimeWarning', 'StopAsyncIteration', 'StopIteration', 'SyntaxError', 'SyntaxWarning', 'SystemError', 'SystemExit', 'TabError', 'TimeoutError', 'True', 'TypeError', 'UnboundLocalError', 'UnicodeDecodeError', 'UnicodeEncodeError', 'UnicodeError', 'UnicodeTranslateError', 'UnicodeWarning', 'UserWarning', 'ValueError', 'Warning', 'WindowsError', 'ZeroDivisionError', '__IPYTHON__', '__build_class__', '__debug__', '__doc__', '__import__', '__loader__', '__name__', '__package__', '__spec__', 'abs', 'aiter', 'all', 'anext', 'any', 'ascii', 'bin', 'bool', 'breakpoint', 'bytearray', 'bytes', 'callable', 'chr', 'classmethod', 'compile', 'complex', 'copyright', 'credits', 'delattr', 'dict', 'dir', 'display', 'divmod', 'enumerate', 'eval', 'exec', 'execfile', 'filter', 'float', 'format', 'frozenset', 'get_ipython', 'getattr', 'globals', 'hasattr', 'hash', 'help', 'hex', 'id', 'input', 'int', 'isinstance', 'issubclass', 'iter', 'len', 'license', 'list', 'locals', 'map', 'max', 'memoryview', 'min', 'next', 'object', 'oct', 'open', 'ord', 'pow', 'print', 'property', 'range', 'repr', 'reversed', 'round', 'runfile', 'set', 'setattr', 'slice', 'sorted', 'staticmethod', 'str', 'sum', 'super', 'tuple', 'type', 'vars', 'zip']\n"
     ]
    }
   ],
   "source": [
    "print(dir(__builtins__))"
   ]
  },
  {
   "cell_type": "code",
   "execution_count": 92,
   "id": "25b68ee9",
   "metadata": {},
   "outputs": [
    {
     "name": "stdin",
     "output_type": "stream",
     "text": [
      "What is Threads?  it is Meta's new twitter clone\n"
     ]
    },
    {
     "data": {
      "text/plain": [
       "\"it is Meta's new twitter clone\""
      ]
     },
     "execution_count": 92,
     "metadata": {},
     "output_type": "execute_result"
    }
   ],
   "source": [
    "input(\"What is Threads? \")\n"
   ]
  },
  {
   "cell_type": "markdown",
   "id": "d322697f",
   "metadata": {},
   "source": [
    "## 🐍 Data Type: String\n",
    "\n",
    "> - create a string named tweet\n",
    "> - print the value of tweet\n",
    "> - check the variable data type\n",
    "> - check the length of the tweet"
   ]
  },
  {
   "cell_type": "code",
   "execution_count": 104,
   "id": "18bfaa88-99d4-4098-8fc5-643bdd825f62",
   "metadata": {},
   "outputs": [
    {
     "data": {
      "text/plain": [
       "['__add__',\n",
       " '__class__',\n",
       " '__contains__',\n",
       " '__delattr__',\n",
       " '__dir__',\n",
       " '__doc__',\n",
       " '__eq__',\n",
       " '__format__',\n",
       " '__ge__',\n",
       " '__getattribute__',\n",
       " '__getitem__',\n",
       " '__getnewargs__',\n",
       " '__getstate__',\n",
       " '__gt__',\n",
       " '__hash__',\n",
       " '__init__',\n",
       " '__init_subclass__',\n",
       " '__iter__',\n",
       " '__le__',\n",
       " '__len__',\n",
       " '__lt__',\n",
       " '__mod__',\n",
       " '__mul__',\n",
       " '__ne__',\n",
       " '__new__',\n",
       " '__reduce__',\n",
       " '__reduce_ex__',\n",
       " '__repr__',\n",
       " '__rmod__',\n",
       " '__rmul__',\n",
       " '__setattr__',\n",
       " '__sizeof__',\n",
       " '__str__',\n",
       " '__subclasshook__',\n",
       " 'capitalize',\n",
       " 'casefold',\n",
       " 'center',\n",
       " 'count',\n",
       " 'encode',\n",
       " 'endswith',\n",
       " 'expandtabs',\n",
       " 'find',\n",
       " 'format',\n",
       " 'format_map',\n",
       " 'index',\n",
       " 'isalnum',\n",
       " 'isalpha',\n",
       " 'isascii',\n",
       " 'isdecimal',\n",
       " 'isdigit',\n",
       " 'isidentifier',\n",
       " 'islower',\n",
       " 'isnumeric',\n",
       " 'isprintable',\n",
       " 'isspace',\n",
       " 'istitle',\n",
       " 'isupper',\n",
       " 'join',\n",
       " 'ljust',\n",
       " 'lower',\n",
       " 'lstrip',\n",
       " 'maketrans',\n",
       " 'partition',\n",
       " 'removeprefix',\n",
       " 'removesuffix',\n",
       " 'replace',\n",
       " 'rfind',\n",
       " 'rindex',\n",
       " 'rjust',\n",
       " 'rpartition',\n",
       " 'rsplit',\n",
       " 'rstrip',\n",
       " 'split',\n",
       " 'splitlines',\n",
       " 'startswith',\n",
       " 'strip',\n",
       " 'swapcase',\n",
       " 'title',\n",
       " 'translate',\n",
       " 'upper',\n",
       " 'zfill']"
      ]
     },
     "execution_count": 104,
     "metadata": {},
     "output_type": "execute_result"
    }
   ],
   "source": [
    "dir(tweet)"
   ]
  },
  {
   "cell_type": "code",
   "execution_count": 94,
   "id": "11ec2375",
   "metadata": {},
   "outputs": [],
   "source": [
    "tweet = \"It's Friday morning and Threads has 70 million users, verified real users, more than the population of all of California and New York combined. I would be surprised is Twitter had 70 million true, individual, non-bot accounts. But regardless, Twitter is dead. Done. Over.\"\n"
   ]
  },
  {
   "cell_type": "code",
   "execution_count": 96,
   "id": "a005df75",
   "metadata": {},
   "outputs": [
    {
     "name": "stdout",
     "output_type": "stream",
     "text": [
      "It's Friday morning and Threads has 70 million users, verified real users, more than the population of all of California and New York combined. I would be surprised is Twitter had 70 million true, individual, non-bot accounts. But regardless, Twitter is dead. Done. Over.\n"
     ]
    }
   ],
   "source": [
    "print(tweet)"
   ]
  },
  {
   "cell_type": "code",
   "execution_count": 98,
   "id": "fea4c98a",
   "metadata": {},
   "outputs": [
    {
     "data": {
      "text/plain": [
       "str"
      ]
     },
     "execution_count": 98,
     "metadata": {},
     "output_type": "execute_result"
    }
   ],
   "source": [
    "type(tweet)"
   ]
  },
  {
   "cell_type": "code",
   "execution_count": 100,
   "id": "33564ac9",
   "metadata": {},
   "outputs": [
    {
     "data": {
      "text/plain": [
       "271"
      ]
     },
     "execution_count": 100,
     "metadata": {},
     "output_type": "execute_result"
    }
   ],
   "source": [
    "len(tweet)"
   ]
  },
  {
   "cell_type": "markdown",
   "id": "c3fad450",
   "metadata": {},
   "source": [
    "### String methods\n",
    "\n",
    "> - count the word occurrence\n",
    "> - turn all letters into uppercse\n",
    "> - substitute 70 with 80"
   ]
  },
  {
   "cell_type": "code",
   "execution_count": 108,
   "id": "3a1bdecc-3ec5-4001-a754-d1828b3c7389",
   "metadata": {},
   "outputs": [],
   "source": [
    "#in anycase you don't know how to use an attribute associated to a function you can use e.g help(tweet.count) or shift+tab\n",
    "#also to know the attributes connected to a particular function/object: tweet.+\"tab button\""
   ]
  },
  {
   "cell_type": "code",
   "execution_count": null,
   "id": "6f7825ec-073c-47ba-a5f5-181171e289d9",
   "metadata": {},
   "outputs": [],
   "source": []
  },
  {
   "cell_type": "code",
   "execution_count": 102,
   "id": "714471ad",
   "metadata": {},
   "outputs": [
    {
     "data": {
      "text/plain": [
       "1"
      ]
     },
     "execution_count": 102,
     "metadata": {},
     "output_type": "execute_result"
    }
   ],
   "source": [
    "tweet.count('dead')"
   ]
  },
  {
   "cell_type": "code",
   "execution_count": 106,
   "id": "b515d54d",
   "metadata": {},
   "outputs": [
    {
     "data": {
      "text/plain": [
       "\"IT'S FRIDAY MORNING AND THREADS HAS 70 MILLION USERS, VERIFIED REAL USERS, MORE THAN THE POPULATION OF ALL OF CALIFORNIA AND NEW YORK COMBINED. I WOULD BE SURPRISED IS TWITTER HAD 70 MILLION TRUE, INDIVIDUAL, NON-BOT ACCOUNTS. BUT REGARDLESS, TWITTER IS DEAD. DONE. OVER.\""
      ]
     },
     "execution_count": 106,
     "metadata": {},
     "output_type": "execute_result"
    }
   ],
   "source": [
    "tweet.upper()"
   ]
  },
  {
   "cell_type": "code",
   "execution_count": 110,
   "id": "149ccb06",
   "metadata": {},
   "outputs": [
    {
     "data": {
      "text/plain": [
       "\"It's Friday morning and Threads has 80 million users, verified real users, more than the population of all of California and New York combined. I would be surprised is Twitter had 80 million true, individual, non-bot accounts. But regardless, Twitter is dead. Done. Over.\""
      ]
     },
     "execution_count": 110,
     "metadata": {},
     "output_type": "execute_result"
    }
   ],
   "source": [
    "tweet.replace('70', '80')"
   ]
  },
  {
   "cell_type": "markdown",
   "id": "907a6873",
   "metadata": {},
   "source": [
    "### Operators\n",
    "\n",
    "> - `+`\n",
    "> - `-`\n",
    "> - `*`"
   ]
  },
  {
   "cell_type": "markdown",
   "id": "3302326e",
   "metadata": {},
   "source": [
    "`+`"
   ]
  },
  {
   "cell_type": "code",
   "execution_count": 112,
   "id": "aa90dcd1",
   "metadata": {},
   "outputs": [
    {
     "name": "stdout",
     "output_type": "stream",
     "text": [
      "Can you tell me the sentiment of this tweet? Please answer: Postivie, Neutral, Negative.Tweet: I'm really good at prompting.\n"
     ]
    }
   ],
   "source": [
    "prompt_question = \"Can you tell me the sentiment of this tweet? Please answer: Postivie, Neutral, Negative.\"\n",
    "prompt_tweet = \"Tweet: I'm really good at prompting.\"\n",
    "\n",
    "prompt = prompt_question + prompt_tweet\n",
    "print(prompt)"
   ]
  },
  {
   "cell_type": "markdown",
   "id": "d15dd972",
   "metadata": {},
   "source": [
    "`-`"
   ]
  },
  {
   "cell_type": "code",
   "execution_count": 114,
   "id": "6ebd6518",
   "metadata": {},
   "outputs": [
    {
     "ename": "TypeError",
     "evalue": "unsupported operand type(s) for -: 'str' and 'str'",
     "output_type": "error",
     "traceback": [
      "\u001b[1;31m---------------------------------------------------------------------------\u001b[0m",
      "\u001b[1;31mTypeError\u001b[0m                                 Traceback (most recent call last)",
      "Cell \u001b[1;32mIn[114], line 1\u001b[0m\n\u001b[1;32m----> 1\u001b[0m prompt \u001b[38;5;241m-\u001b[39m \u001b[38;5;124m\"\u001b[39m\u001b[38;5;124mprompting\u001b[39m\u001b[38;5;124m\"\u001b[39m\n",
      "\u001b[1;31mTypeError\u001b[0m: unsupported operand type(s) for -: 'str' and 'str'"
     ]
    }
   ],
   "source": [
    "prompt - \"prompting\""
   ]
  },
  {
   "cell_type": "markdown",
   "id": "45b1d014",
   "metadata": {},
   "source": [
    "`*`"
   ]
  },
  {
   "cell_type": "code",
   "execution_count": 116,
   "id": "109c7e10",
   "metadata": {},
   "outputs": [
    {
     "data": {
      "text/plain": [
       "\"Can you tell me the sentiment of this tweet? Please answer: Postivie, Neutral, Negative.Tweet: I'm really good at prompting.Can you tell me the sentiment of this tweet? Please answer: Postivie, Neutral, Negative.Tweet: I'm really good at prompting.Can you tell me the sentiment of this tweet? Please answer: Postivie, Neutral, Negative.Tweet: I'm really good at prompting.Can you tell me the sentiment of this tweet? Please answer: Postivie, Neutral, Negative.Tweet: I'm really good at prompting.Can you tell me the sentiment of this tweet? Please answer: Postivie, Neutral, Negative.Tweet: I'm really good at prompting.\""
      ]
     },
     "execution_count": 116,
     "metadata": {},
     "output_type": "execute_result"
    }
   ],
   "source": [
    "prompt * 5"
   ]
  },
  {
   "cell_type": "markdown",
   "id": "f5799536",
   "metadata": {},
   "source": [
    "### Escapse Character\n",
    "\n",
    "> - escape \\\n",
    "> - \\n \\t\n",
    "> - concatenate strings > create a prompt_question string and a prompt_tweet string"
   ]
  },
  {
   "cell_type": "code",
   "execution_count": 118,
   "id": "2fb2b2c9",
   "metadata": {},
   "outputs": [
    {
     "name": "stdout",
     "output_type": "stream",
     "text": [
      "Can you tell me the sentiment of this tweet? Please answer: Postivie, Neutral, Negative.\n",
      "Tweet: I'm really good at prompting.\n"
     ]
    }
   ],
   "source": [
    "prompt_question = \"Can you tell me the sentiment of this tweet? Please answer: Postivie, Neutral, Negative.\"\n",
    "prompt_tweet = \"Tweet: I'm really good at prompting.\"\n",
    "\n",
    "prompt = prompt_question + '\\n' + prompt_tweet\n",
    "print(prompt)"
   ]
  },
  {
   "cell_type": "code",
   "execution_count": 120,
   "id": "0003beda",
   "metadata": {},
   "outputs": [
    {
     "name": "stdout",
     "output_type": "stream",
     "text": [
      "Can you tell me the sentiment of this tweet? Please answer: Postivie, Neutral, Negative.\n",
      "Tweet: I'm really good at prompting.\n"
     ]
    }
   ],
   "source": [
    "prompt = prompt_question + '\\n' + prompt_tweet\n",
    "print(prompt)"
   ]
  },
  {
   "cell_type": "code",
   "execution_count": 122,
   "id": "699c1346",
   "metadata": {},
   "outputs": [
    {
     "name": "stdout",
     "output_type": "stream",
     "text": [
      "What's the sentiment of this tweet? Please answer: \"Postivie\", \"Neutral\", \"Negative\".Tweet: I'm really good at prompting.\n"
     ]
    }
   ],
   "source": [
    "prompt_question = \"What's the sentiment of this tweet? Please answer: \\\"Postivie\\\", \\\"Neutral\\\", \\\"Negative\\\".\"\n",
    "prompt_tweet = \"Tweet: I'm really good at prompting.\"\n",
    "\n",
    "prompt = prompt_question + prompt_tweet\n",
    "print(prompt)"
   ]
  },
  {
   "cell_type": "code",
   "execution_count": 124,
   "id": "88d8f087",
   "metadata": {},
   "outputs": [
    {
     "name": "stdout",
     "output_type": "stream",
     "text": [
      "What's the sentiment of this tweet? \\ Please answer: \"Postivie\", \"Neutral\", \"Negative\".\n",
      "Tweet: I'm really good at prompting.\n"
     ]
    }
   ],
   "source": [
    "prompt_question = \"What's the sentiment of this tweet? \\\\ Please answer: \\\"Postivie\\\", \\\"Neutral\\\", \\\"Negative\\\".\"\n",
    "prompt_tweet = \"Tweet: I'm really good at prompting.\"\n",
    "\n",
    "prompt = prompt_question + '\\n' + prompt_tweet\n",
    "print(prompt)"
   ]
  },
  {
   "cell_type": "code",
   "execution_count": 126,
   "id": "ce523033",
   "metadata": {},
   "outputs": [
    {
     "name": "stdout",
     "output_type": "stream",
     "text": [
      "What's the sentiment of this tweet? \\ Please answer: \"Postivie\", \"Neutral\", \"Negative\".\t\t\tTweet: I'm really good at prompting.\n"
     ]
    }
   ],
   "source": [
    "prompt = prompt_question + '\\t\\t\\t' + prompt_tweet\n",
    "print(prompt)"
   ]
  },
  {
   "cell_type": "markdown",
   "id": "5a91874d",
   "metadata": {},
   "source": [
    "## 🐍 Control Flows\n",
    "\n",
    "> - booleans (==, isinstance, in)\n",
    "> - identation\n",
    "> - IF/ELSE statement\n",
    "    - `check if the tweet contains substring/word \"good\"`"
   ]
  },
  {
   "cell_type": "code",
   "execution_count": 130,
   "id": "e33a5339-c8f1-4ae4-bb4f-f7fbcec60baa",
   "metadata": {},
   "outputs": [
    {
     "data": {
      "text/plain": [
       "False"
      ]
     },
     "execution_count": 130,
     "metadata": {},
     "output_type": "execute_result"
    }
   ],
   "source": [
    "'good' == 'Good' #for comparism"
   ]
  },
  {
   "cell_type": "code",
   "execution_count": 128,
   "id": "e70ffeef",
   "metadata": {},
   "outputs": [
    {
     "data": {
      "text/plain": [
       "True"
      ]
     },
     "execution_count": 128,
     "metadata": {},
     "output_type": "execute_result"
    }
   ],
   "source": [
    "isinstance(\"good\", str)"
   ]
  },
  {
   "cell_type": "code",
   "execution_count": 132,
   "id": "f0a92d77",
   "metadata": {},
   "outputs": [
    {
     "data": {
      "text/plain": [
       "True"
      ]
     },
     "execution_count": 132,
     "metadata": {},
     "output_type": "execute_result"
    }
   ],
   "source": [
    "\"good\" in prompt"
   ]
  },
  {
   "cell_type": "code",
   "execution_count": 134,
   "id": "c85ddcda",
   "metadata": {},
   "outputs": [
    {
     "data": {
      "text/plain": [
       "False"
      ]
     },
     "execution_count": 134,
     "metadata": {},
     "output_type": "execute_result"
    }
   ],
   "source": [
    "\"Good\" in prompt"
   ]
  },
  {
   "cell_type": "code",
   "execution_count": null,
   "id": "ab364bad",
   "metadata": {},
   "outputs": [],
   "source": [
    "good == Good"
   ]
  },
  {
   "cell_type": "code",
   "execution_count": null,
   "id": "fbec570e",
   "metadata": {},
   "outputs": [],
   "source": [
    "if \"good\" in prompt: \n",
    "    print(\"Sentiment is positive!\")\n",
    "else: \n",
    "    print(\"Sentiment is not positive...\")"
   ]
  },
  {
   "cell_type": "code",
   "execution_count": 136,
   "id": "f88dbf1f",
   "metadata": {},
   "outputs": [
    {
     "data": {
      "text/plain": [
       "'What\\'s the sentiment of this tweet? \\\\ Please answer: \"Postivie\", \"Neutral\", \"Negative\".\\t\\t\\tTweet: I\\'m really bad at prompting.'"
      ]
     },
     "execution_count": 136,
     "metadata": {},
     "output_type": "execute_result"
    }
   ],
   "source": [
    "prompt.replace(\"good\", \"bad\")"
   ]
  },
  {
   "cell_type": "code",
   "execution_count": 138,
   "id": "83a2b1aa",
   "metadata": {},
   "outputs": [],
   "source": [
    "prompt = prompt.replace(\"good\", \"bad\")"
   ]
  },
  {
   "cell_type": "code",
   "execution_count": 140,
   "id": "ebe15b4b",
   "metadata": {},
   "outputs": [
    {
     "data": {
      "text/plain": [
       "'What\\'s the sentiment of this tweet? \\\\ Please answer: \"Postivie\", \"Neutral\", \"Negative\".\\t\\t\\tTweet: I\\'m really bad at prompting.'"
      ]
     },
     "execution_count": 140,
     "metadata": {},
     "output_type": "execute_result"
    }
   ],
   "source": [
    "prompt"
   ]
  },
  {
   "cell_type": "code",
   "execution_count": 142,
   "id": "61a34eba",
   "metadata": {},
   "outputs": [
    {
     "name": "stdout",
     "output_type": "stream",
     "text": [
      "Sentiment is NOT positive...\n"
     ]
    }
   ],
   "source": [
    "if \"good\" in prompt: \n",
    "    print(\"Sentiment is positive!\")\n",
    "else: \n",
    "    print(\"Sentiment is NOT positive...\")"
   ]
  },
  {
   "cell_type": "markdown",
   "id": "b5a441cb",
   "metadata": {},
   "source": [
    "# 🧪 Exercise: Sentiment Analysis"
   ]
  },
  {
   "cell_type": "markdown",
   "id": "453fcedd",
   "metadata": {},
   "source": [
    "## 1. Sentiment Analysis using vader library\n",
    "\n",
    "> - import the vaderSentiment package\n",
    "> - instantiate the sentiment analyzer \n",
    "> - find a method of the instance that generates sentiment scores\n",
    "> - create the sentiment polarity score"
   ]
  },
  {
   "cell_type": "code",
   "execution_count": null,
   "id": "edac4f64",
   "metadata": {},
   "outputs": [],
   "source": [
    "from vaderSentiment.vaderSentiment import SentimentIntensityAnalyzer"
   ]
  },
  {
   "cell_type": "code",
   "execution_count": null,
   "id": "ba8baac8",
   "metadata": {},
   "outputs": [],
   "source": [
    "dir(SentimentIntensityAnalyzer)"
   ]
  },
  {
   "cell_type": "code",
   "execution_count": null,
   "id": "89b384e6",
   "metadata": {},
   "outputs": [],
   "source": [
    "sentiment_analyzer = SentimentIntensityAnalyzer()"
   ]
  },
  {
   "cell_type": "code",
   "execution_count": null,
   "id": "b5597d3c",
   "metadata": {},
   "outputs": [],
   "source": [
    "prompt_tweet = \"Tweet: I'm really good at prompting.\""
   ]
  },
  {
   "cell_type": "code",
   "execution_count": null,
   "id": "6462305b",
   "metadata": {},
   "outputs": [],
   "source": [
    "sentiment_analyzer.polarity_scores(prompt_tweet)"
   ]
  },
  {
   "cell_type": "markdown",
   "id": "de77a061",
   "metadata": {},
   "source": [
    "## 2. Sentiment Analysis using openapi\n",
    "\n",
    "> - import the openai package\n",
    "> - set the api_key\n",
    "> - generate a prompt\n",
    "> - use the Completition module to create a response > get the sentiment"
   ]
  },
  {
   "cell_type": "code",
   "execution_count": null,
   "id": "7b7711bf",
   "metadata": {},
   "outputs": [],
   "source": [
    "import os\n",
    "import openai\n",
    "\n",
    "openai.api_key = os.getenv(\"OPENAI_API_KEY\")"
   ]
  },
  {
   "cell_type": "code",
   "execution_count": null,
   "id": "edf1fb1c",
   "metadata": {},
   "outputs": [],
   "source": [
    "my_prompt = \"I'd like you to analyze the sentiment of this tweet. Can you tell me whether it's negative, neutral, or possitive? \\n \\n It's Friday morning and Threads has 70 million users, verified real users, more than the population of all of California and New York combined. I would be surprised is Twitter had 70 million true, individual, non-bot accounts. But regardless, Twitter is dead. Done. Over.\"\n",
    "\n",
    "print(my_prompt)"
   ]
  },
  {
   "cell_type": "code",
   "execution_count": null,
   "id": "1c24e701",
   "metadata": {},
   "outputs": [],
   "source": [
    "tweet_2 = \"I'm very slowly finding people on threads... I don't like rebuilding all my follows, or reactivating a long-dead insta account\"\n",
    "print(tweet_2)\n",
    "\n",
    "my_prompt_2 = \"I'd like you to analyze the sentiment of this tweet. Can you tell me whether it's negative, neutral, or possitive? \\n \\n Tweet: \\\"I'm very slowly finding people on threads... I don't like rebuilding all my follows, or reactivating\\\"\"\n",
    "print(my_prompt_2)\n"
   ]
  },
  {
   "cell_type": "code",
   "execution_count": null,
   "id": "ae58d98c",
   "metadata": {},
   "outputs": [],
   "source": [
    "response = openai.Completion.create(\n",
    "  model=\"text-davinci-003\",\n",
    "  prompt=my_prompt_2,\n",
    "  temperature=0,\n",
    "  max_tokens=60,\n",
    "  top_p=1.0,\n",
    "  frequency_penalty=0.0,\n",
    "  presence_penalty=0.0\n",
    ")"
   ]
  },
  {
   "cell_type": "code",
   "execution_count": null,
   "id": "4c17efd9",
   "metadata": {},
   "outputs": [],
   "source": [
    "response"
   ]
  },
  {
   "cell_type": "code",
   "execution_count": null,
   "id": "ff80e0b8",
   "metadata": {},
   "outputs": [],
   "source": []
  }
 ],
 "metadata": {
  "kernelspec": {
   "display_name": "Python 3 (ipykernel)",
   "language": "python",
   "name": "python3"
  },
  "language_info": {
   "codemirror_mode": {
    "name": "ipython",
    "version": 3
   },
   "file_extension": ".py",
   "mimetype": "text/x-python",
   "name": "python",
   "nbconvert_exporter": "python",
   "pygments_lexer": "ipython3",
   "version": "3.12.4"
  }
 },
 "nbformat": 4,
 "nbformat_minor": 5
}
